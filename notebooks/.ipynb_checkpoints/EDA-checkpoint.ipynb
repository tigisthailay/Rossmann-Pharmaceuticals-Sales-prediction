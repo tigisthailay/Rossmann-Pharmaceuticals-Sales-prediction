{
 "cells": [
  {
   "cell_type": "code",
   "execution_count": 2,
   "id": "bc752a83",
   "metadata": {},
   "outputs": [],
   "source": [
    "import pandas as pd\n",
    "import numpy as np\n",
    "import matplotlib.pyplot as plt\n",
    "import seaborn as sns\n",
    "import sys, os"
   ]
  },
  {
   "cell_type": "markdown",
   "id": "37a56b0d",
   "metadata": {},
   "source": [
    "Import modules from Scripts"
   ]
  },
  {
   "cell_type": "code",
   "execution_count": 4,
   "id": "8e9893a7",
   "metadata": {},
   "outputs": [],
   "source": [
    "sys.path.append(os.path.abspath(os.path.join('../scripts')))\n",
    "from preprocessing import Preprocess\n",
    "from plotting import Plotting\n",
    "from loader import LoadData"
   ]
  },
  {
   "cell_type": "code",
   "execution_count": null,
   "id": "0e1a39ab",
   "metadata": {},
   "outputs": [],
   "source": []
  },
  {
   "cell_type": "code",
   "execution_count": null,
   "id": "4c3cabc3",
   "metadata": {},
   "outputs": [],
   "source": []
  }
 ],
 "metadata": {
  "kernelspec": {
   "display_name": "Python 3 (ipykernel)",
   "language": "python",
   "name": "python3"
  },
  "language_info": {
   "codemirror_mode": {
    "name": "ipython",
    "version": 3
   },
   "file_extension": ".py",
   "mimetype": "text/x-python",
   "name": "python",
   "nbconvert_exporter": "python",
   "pygments_lexer": "ipython3",
   "version": "3.9.12"
  }
 },
 "nbformat": 4,
 "nbformat_minor": 5
}
