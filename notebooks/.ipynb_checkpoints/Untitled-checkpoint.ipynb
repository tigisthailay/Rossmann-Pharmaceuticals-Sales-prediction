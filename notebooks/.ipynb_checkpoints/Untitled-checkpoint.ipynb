{
 "cells": [
  {
   "cell_type": "code",
   "execution_count": 1,
   "id": "f0d0e050",
   "metadata": {},
   "outputs": [],
   "source": [
    "import os\n",
    "import warnings\n",
    "import sys\n",
    "\n",
    "import numpy as np\n",
    "import pandas as pd\n",
    "import matplotlib.pyplot as plt\n",
    "from matplotlib.gridspec import GridSpec\n",
    "from matplotlib import ticker\n",
    "from statsmodels.tsa.stattools import adfuller, acf, pacf\n",
    "from sklearn.preprocessing import MinMaxScaler\n",
    "#import tensorflow as tf\n",
    "#from tensorflow.keras.models import Sequential\n",
    "#from tensorflow.keras.layers import Dense\n",
    "#from tensorflow.keras.layers import LSTM\n",
    "\n",
    "\n"
   ]
  },
  {
   "cell_type": "code",
   "execution_count": 2,
   "id": "44b359ef",
   "metadata": {},
   "outputs": [],
   "source": [
    "sys.path.append(os.path.abspath(os.path.join('../Scripts')))\n",
    "from plotting import Plotting\n",
    "from preprocessing import Preprocess\n",
    "from file import Myfile"
   ]
  },
  {
   "cell_type": "code",
   "execution_count": 3,
   "id": "0e20f94c",
   "metadata": {},
   "outputs": [],
   "source": [
    "preprocess = Preprocess()\n",
    "plot = Plotting()\n",
    "file = Myfile()"
   ]
  },
  {
   "cell_type": "code",
   "execution_count": 102,
   "id": "9678cd18",
   "metadata": {},
   "outputs": [
    {
     "name": "stderr",
     "output_type": "stream",
     "text": [
      "C:\\Users\\user\\AppData\\Local\\Temp\\ipykernel_12012\\1590414254.py:1: DtypeWarning: Columns (7) have mixed types. Specify dtype option on import or set low_memory=False.\n",
      "  df = pd.read_csv('../data/train_processed.csv', parse_dates=['Date'])\n"
     ]
    },
    {
     "name": "stdout",
     "output_type": "stream",
     "text": [
      "The dataset contains 1017209 Sales Data\n"
     ]
    },
    {
     "data": {
      "text/html": [
       "<div>\n",
       "<style scoped>\n",
       "    .dataframe tbody tr th:only-of-type {\n",
       "        vertical-align: middle;\n",
       "    }\n",
       "\n",
       "    .dataframe tbody tr th {\n",
       "        vertical-align: top;\n",
       "    }\n",
       "\n",
       "    .dataframe thead th {\n",
       "        text-align: right;\n",
       "    }\n",
       "</style>\n",
       "<table border=\"1\" class=\"dataframe\">\n",
       "  <thead>\n",
       "    <tr style=\"text-align: right;\">\n",
       "      <th></th>\n",
       "      <th>Date</th>\n",
       "      <th>Store</th>\n",
       "      <th>DayOfWeek</th>\n",
       "      <th>Sales</th>\n",
       "      <th>Open</th>\n",
       "      <th>Promo</th>\n",
       "      <th>StateHoliday</th>\n",
       "      <th>SchoolHoliday</th>\n",
       "      <th>CompetitionDistance</th>\n",
       "      <th>CompetitionOpenSinceMonth</th>\n",
       "      <th>CompetitionOpenSinceYear</th>\n",
       "      <th>Promo2</th>\n",
       "      <th>Promo2SinceWeek</th>\n",
       "      <th>Promo2SinceYear</th>\n",
       "      <th>Year</th>\n",
       "      <th>Month</th>\n",
       "      <th>Day</th>\n",
       "      <th>weekday</th>\n",
       "      <th>weekofyear</th>\n",
       "      <th>weekend</th>\n",
       "      <th>PromoInterval</th>\n",
       "      <th>Assortment</th>\n",
       "      <th>StoreType</th>\n",
       "    </tr>\n",
       "  </thead>\n",
       "  <tbody>\n",
       "    <tr>\n",
       "      <th>0</th>\n",
       "      <td>2015-07-31</td>\n",
       "      <td>1</td>\n",
       "      <td>4</td>\n",
       "      <td>5263.0</td>\n",
       "      <td>1</td>\n",
       "      <td>1</td>\n",
       "      <td>0</td>\n",
       "      <td>1</td>\n",
       "      <td>1270.0</td>\n",
       "      <td>9.0</td>\n",
       "      <td>2008.0</td>\n",
       "      <td>0</td>\n",
       "      <td>22.0</td>\n",
       "      <td>2012.0</td>\n",
       "      <td>2015</td>\n",
       "      <td>7</td>\n",
       "      <td>31</td>\n",
       "      <td>4</td>\n",
       "      <td>31</td>\n",
       "      <td>0</td>\n",
       "      <td>1</td>\n",
       "      <td>0</td>\n",
       "      <td>2</td>\n",
       "    </tr>\n",
       "    <tr>\n",
       "      <th>1</th>\n",
       "      <td>2015-07-31</td>\n",
       "      <td>2</td>\n",
       "      <td>4</td>\n",
       "      <td>6064.0</td>\n",
       "      <td>1</td>\n",
       "      <td>1</td>\n",
       "      <td>0</td>\n",
       "      <td>1</td>\n",
       "      <td>570.0</td>\n",
       "      <td>11.0</td>\n",
       "      <td>2007.0</td>\n",
       "      <td>1</td>\n",
       "      <td>13.0</td>\n",
       "      <td>2010.0</td>\n",
       "      <td>2015</td>\n",
       "      <td>7</td>\n",
       "      <td>31</td>\n",
       "      <td>4</td>\n",
       "      <td>31</td>\n",
       "      <td>0</td>\n",
       "      <td>1</td>\n",
       "      <td>0</td>\n",
       "      <td>0</td>\n",
       "    </tr>\n",
       "    <tr>\n",
       "      <th>2</th>\n",
       "      <td>2015-07-31</td>\n",
       "      <td>3</td>\n",
       "      <td>4</td>\n",
       "      <td>8314.0</td>\n",
       "      <td>1</td>\n",
       "      <td>1</td>\n",
       "      <td>0</td>\n",
       "      <td>1</td>\n",
       "      <td>14130.0</td>\n",
       "      <td>12.0</td>\n",
       "      <td>2006.0</td>\n",
       "      <td>1</td>\n",
       "      <td>14.0</td>\n",
       "      <td>2011.0</td>\n",
       "      <td>2015</td>\n",
       "      <td>7</td>\n",
       "      <td>31</td>\n",
       "      <td>4</td>\n",
       "      <td>31</td>\n",
       "      <td>0</td>\n",
       "      <td>1</td>\n",
       "      <td>0</td>\n",
       "      <td>0</td>\n",
       "    </tr>\n",
       "    <tr>\n",
       "      <th>3</th>\n",
       "      <td>2015-07-31</td>\n",
       "      <td>4</td>\n",
       "      <td>4</td>\n",
       "      <td>13995.0</td>\n",
       "      <td>1</td>\n",
       "      <td>1</td>\n",
       "      <td>0</td>\n",
       "      <td>1</td>\n",
       "      <td>620.0</td>\n",
       "      <td>9.0</td>\n",
       "      <td>2009.0</td>\n",
       "      <td>0</td>\n",
       "      <td>22.0</td>\n",
       "      <td>2012.0</td>\n",
       "      <td>2015</td>\n",
       "      <td>7</td>\n",
       "      <td>31</td>\n",
       "      <td>4</td>\n",
       "      <td>31</td>\n",
       "      <td>0</td>\n",
       "      <td>1</td>\n",
       "      <td>2</td>\n",
       "      <td>2</td>\n",
       "    </tr>\n",
       "    <tr>\n",
       "      <th>4</th>\n",
       "      <td>2015-07-31</td>\n",
       "      <td>5</td>\n",
       "      <td>4</td>\n",
       "      <td>4822.0</td>\n",
       "      <td>1</td>\n",
       "      <td>1</td>\n",
       "      <td>0</td>\n",
       "      <td>1</td>\n",
       "      <td>29910.0</td>\n",
       "      <td>4.0</td>\n",
       "      <td>2015.0</td>\n",
       "      <td>0</td>\n",
       "      <td>22.0</td>\n",
       "      <td>2012.0</td>\n",
       "      <td>2015</td>\n",
       "      <td>7</td>\n",
       "      <td>31</td>\n",
       "      <td>4</td>\n",
       "      <td>31</td>\n",
       "      <td>0</td>\n",
       "      <td>1</td>\n",
       "      <td>0</td>\n",
       "      <td>0</td>\n",
       "    </tr>\n",
       "  </tbody>\n",
       "</table>\n",
       "</div>"
      ],
      "text/plain": [
       "        Date  Store  DayOfWeek    Sales  Open  Promo StateHoliday  \\\n",
       "0 2015-07-31      1          4   5263.0     1      1            0   \n",
       "1 2015-07-31      2          4   6064.0     1      1            0   \n",
       "2 2015-07-31      3          4   8314.0     1      1            0   \n",
       "3 2015-07-31      4          4  13995.0     1      1            0   \n",
       "4 2015-07-31      5          4   4822.0     1      1            0   \n",
       "\n",
       "   SchoolHoliday  CompetitionDistance  CompetitionOpenSinceMonth  \\\n",
       "0              1               1270.0                        9.0   \n",
       "1              1                570.0                       11.0   \n",
       "2              1              14130.0                       12.0   \n",
       "3              1                620.0                        9.0   \n",
       "4              1              29910.0                        4.0   \n",
       "\n",
       "   CompetitionOpenSinceYear  Promo2  Promo2SinceWeek  Promo2SinceYear  Year  \\\n",
       "0                    2008.0       0             22.0           2012.0  2015   \n",
       "1                    2007.0       1             13.0           2010.0  2015   \n",
       "2                    2006.0       1             14.0           2011.0  2015   \n",
       "3                    2009.0       0             22.0           2012.0  2015   \n",
       "4                    2015.0       0             22.0           2012.0  2015   \n",
       "\n",
       "   Month  Day  weekday  weekofyear  weekend  PromoInterval  Assortment  \\\n",
       "0      7   31        4          31        0              1           0   \n",
       "1      7   31        4          31        0              1           0   \n",
       "2      7   31        4          31        0              1           0   \n",
       "3      7   31        4          31        0              1           2   \n",
       "4      7   31        4          31        0              1           0   \n",
       "\n",
       "   StoreType  \n",
       "0          2  \n",
       "1          0  \n",
       "2          0  \n",
       "3          2  \n",
       "4          0  "
      ]
     },
     "execution_count": 102,
     "metadata": {},
     "output_type": "execute_result"
    }
   ],
   "source": [
    "df = pd.read_csv('../data/train_processed.csv', parse_dates=['Date'])\n",
    "df.drop(['Unnamed: 0'], axis=1, inplace=True)\n",
    "print(f\"The dataset contains {len(df)} Sales Data\")\n",
    "pd.set_option('display.max_columns', len(df.columns)) # To view all columns , , index_col='Date'\n",
    "pd.set_option('display.max_rows', 100)\n",
    "df.head(5)"
   ]
  },
  {
   "cell_type": "code",
   "execution_count": 103,
   "id": "f6151895",
   "metadata": {},
   "outputs": [
    {
     "data": {
      "text/plain": [
       "Date                         0\n",
       "Store                        0\n",
       "DayOfWeek                    0\n",
       "Sales                        0\n",
       "Open                         0\n",
       "Promo                        0\n",
       "StateHoliday                 0\n",
       "SchoolHoliday                0\n",
       "CompetitionDistance          0\n",
       "CompetitionOpenSinceMonth    0\n",
       "CompetitionOpenSinceYear     0\n",
       "Promo2                       0\n",
       "Promo2SinceWeek              0\n",
       "Promo2SinceYear              0\n",
       "Year                         0\n",
       "Month                        0\n",
       "Day                          0\n",
       "weekday                      0\n",
       "weekofyear                   0\n",
       "weekend                      0\n",
       "PromoInterval                0\n",
       "Assortment                   0\n",
       "StoreType                    0\n",
       "dtype: int64"
      ]
     },
     "execution_count": 103,
     "metadata": {},
     "output_type": "execute_result"
    }
   ],
   "source": [
    "df.isna().sum()"
   ]
  },
  {
   "cell_type": "code",
   "execution_count": 104,
   "id": "55823051",
   "metadata": {},
   "outputs": [
    {
     "name": "stdout",
     "output_type": "stream",
     "text": [
      "<class 'pandas.core.frame.DataFrame'>\n",
      "RangeIndex: 1017209 entries, 0 to 1017208\n",
      "Data columns (total 23 columns):\n",
      " #   Column                     Non-Null Count    Dtype         \n",
      "---  ------                     --------------    -----         \n",
      " 0   Date                       1017209 non-null  datetime64[ns]\n",
      " 1   Store                      1017209 non-null  int64         \n",
      " 2   DayOfWeek                  1017209 non-null  int64         \n",
      " 3   Sales                      1017209 non-null  float64       \n",
      " 4   Open                       1017209 non-null  int64         \n",
      " 5   Promo                      1017209 non-null  int64         \n",
      " 6   StateHoliday               1017209 non-null  object        \n",
      " 7   SchoolHoliday              1017209 non-null  int64         \n",
      " 8   CompetitionDistance        1017209 non-null  float64       \n",
      " 9   CompetitionOpenSinceMonth  1017209 non-null  float64       \n",
      " 10  CompetitionOpenSinceYear   1017209 non-null  float64       \n",
      " 11  Promo2                     1017209 non-null  int64         \n",
      " 12  Promo2SinceWeek            1017209 non-null  float64       \n",
      " 13  Promo2SinceYear            1017209 non-null  float64       \n",
      " 14  Year                       1017209 non-null  int64         \n",
      " 15  Month                      1017209 non-null  int64         \n",
      " 16  Day                        1017209 non-null  int64         \n",
      " 17  weekday                    1017209 non-null  int64         \n",
      " 18  weekofyear                 1017209 non-null  int64         \n",
      " 19  weekend                    1017209 non-null  int64         \n",
      " 20  PromoInterval              1017209 non-null  int64         \n",
      " 21  Assortment                 1017209 non-null  int64         \n",
      " 22  StoreType                  1017209 non-null  int64         \n",
      "dtypes: datetime64[ns](1), float64(6), int64(15), object(1)\n",
      "memory usage: 178.5+ MB\n"
     ]
    }
   ],
   "source": [
    "df.info()"
   ]
  },
  {
   "cell_type": "code",
   "execution_count": 105,
   "id": "14ff1ed2",
   "metadata": {},
   "outputs": [],
   "source": [
    "df.Date = pd.to_datetime(df.Date)"
   ]
  },
  {
   "cell_type": "markdown",
   "id": "5976cd15",
   "metadata": {},
   "source": [
    "Pairwise correlation"
   ]
  },
  {
   "cell_type": "code",
   "execution_count": 106,
   "id": "eb59c740",
   "metadata": {},
   "outputs": [
    {
     "data": {
      "text/html": [
       "<div>\n",
       "<style scoped>\n",
       "    .dataframe tbody tr th:only-of-type {\n",
       "        vertical-align: middle;\n",
       "    }\n",
       "\n",
       "    .dataframe tbody tr th {\n",
       "        vertical-align: top;\n",
       "    }\n",
       "\n",
       "    .dataframe thead th {\n",
       "        text-align: right;\n",
       "    }\n",
       "</style>\n",
       "<table border=\"1\" class=\"dataframe\">\n",
       "  <thead>\n",
       "    <tr style=\"text-align: right;\">\n",
       "      <th></th>\n",
       "      <th>Sales</th>\n",
       "    </tr>\n",
       "    <tr>\n",
       "      <th>Date</th>\n",
       "      <th></th>\n",
       "    </tr>\n",
       "  </thead>\n",
       "  <tbody>\n",
       "    <tr>\n",
       "      <th>2015-07-31</th>\n",
       "      <td>5263.0</td>\n",
       "    </tr>\n",
       "    <tr>\n",
       "      <th>2015-07-31</th>\n",
       "      <td>6064.0</td>\n",
       "    </tr>\n",
       "    <tr>\n",
       "      <th>2015-07-31</th>\n",
       "      <td>8314.0</td>\n",
       "    </tr>\n",
       "    <tr>\n",
       "      <th>2015-07-31</th>\n",
       "      <td>13995.0</td>\n",
       "    </tr>\n",
       "    <tr>\n",
       "      <th>2015-07-31</th>\n",
       "      <td>4822.0</td>\n",
       "    </tr>\n",
       "  </tbody>\n",
       "</table>\n",
       "</div>"
      ],
      "text/plain": [
       "              Sales\n",
       "Date               \n",
       "2015-07-31   5263.0\n",
       "2015-07-31   6064.0\n",
       "2015-07-31   8314.0\n",
       "2015-07-31  13995.0\n",
       "2015-07-31   4822.0"
      ]
     },
     "execution_count": 106,
     "metadata": {},
     "output_type": "execute_result"
    }
   ],
   "source": [
    "df2 = df[['Date', 'Sales']].set_index('Date')\n",
    "df2.head()"
   ]
  },
  {
   "cell_type": "code",
   "execution_count": 10,
   "id": "7ba22f43",
   "metadata": {},
   "outputs": [],
   "source": [
    "#df2.Date = pd.to_datetime(df2.Date)"
   ]
  },
  {
   "cell_type": "code",
   "execution_count": 107,
   "id": "e491e233",
   "metadata": {},
   "outputs": [
    {
     "data": {
      "text/plain": [
       "<bound method DataFrame.info of               Sales\n",
       "Date               \n",
       "2015-07-31   5263.0\n",
       "2015-07-31   6064.0\n",
       "2015-07-31   8314.0\n",
       "2015-07-31  13995.0\n",
       "2015-07-31   4822.0\n",
       "...             ...\n",
       "2013-01-01      0.0\n",
       "2013-01-01      0.0\n",
       "2013-01-01      0.0\n",
       "2013-01-01      0.0\n",
       "2013-01-01      0.0\n",
       "\n",
       "[1017209 rows x 1 columns]>"
      ]
     },
     "execution_count": 107,
     "metadata": {},
     "output_type": "execute_result"
    }
   ],
   "source": [
    "df2.info"
   ]
  },
  {
   "cell_type": "code",
   "execution_count": 109,
   "id": "03504117",
   "metadata": {},
   "outputs": [
    {
     "data": {
      "text/plain": [
       "(1017209, 1)"
      ]
     },
     "execution_count": 109,
     "metadata": {},
     "output_type": "execute_result"
    }
   ],
   "source": [
    "## Descriptive Statistical Visualization\n",
    "df2.describe()\n",
    "df2.shape"
   ]
  },
  {
   "cell_type": "code",
   "execution_count": 110,
   "id": "5060c89e",
   "metadata": {},
   "outputs": [],
   "source": [
    "df2 = df2[df2['Sales'] > 0.0]"
   ]
  },
  {
   "cell_type": "code",
   "execution_count": 13,
   "id": "aa633cd0",
   "metadata": {},
   "outputs": [
    {
     "data": {
      "text/html": [
       "<div>\n",
       "<style scoped>\n",
       "    .dataframe tbody tr th:only-of-type {\n",
       "        vertical-align: middle;\n",
       "    }\n",
       "\n",
       "    .dataframe tbody tr th {\n",
       "        vertical-align: top;\n",
       "    }\n",
       "\n",
       "    .dataframe thead th {\n",
       "        text-align: right;\n",
       "    }\n",
       "</style>\n",
       "<table border=\"1\" class=\"dataframe\">\n",
       "  <thead>\n",
       "    <tr style=\"text-align: right;\">\n",
       "      <th></th>\n",
       "      <th>Sales</th>\n",
       "      <th>SalesScaled</th>\n",
       "    </tr>\n",
       "    <tr>\n",
       "      <th>Date</th>\n",
       "      <th></th>\n",
       "      <th></th>\n",
       "    </tr>\n",
       "  </thead>\n",
       "  <tbody>\n",
       "    <tr>\n",
       "      <th>2015-07-31</th>\n",
       "      <td>5263.0</td>\n",
       "      <td>0.374604</td>\n",
       "    </tr>\n",
       "    <tr>\n",
       "      <th>2015-07-31</th>\n",
       "      <td>6064.0</td>\n",
       "      <td>0.431617</td>\n",
       "    </tr>\n",
       "    <tr>\n",
       "      <th>2015-07-31</th>\n",
       "      <td>8314.0</td>\n",
       "      <td>0.591765</td>\n",
       "    </tr>\n",
       "    <tr>\n",
       "      <th>2015-07-31</th>\n",
       "      <td>13995.0</td>\n",
       "      <td>0.996121</td>\n",
       "    </tr>\n",
       "    <tr>\n",
       "      <th>2015-07-31</th>\n",
       "      <td>4822.0</td>\n",
       "      <td>0.343215</td>\n",
       "    </tr>\n",
       "  </tbody>\n",
       "</table>\n",
       "</div>"
      ],
      "text/plain": [
       "              Sales  SalesScaled\n",
       "Date                            \n",
       "2015-07-31   5263.0     0.374604\n",
       "2015-07-31   6064.0     0.431617\n",
       "2015-07-31   8314.0     0.591765\n",
       "2015-07-31  13995.0     0.996121\n",
       "2015-07-31   4822.0     0.343215"
      ]
     },
     "execution_count": 13,
     "metadata": {},
     "output_type": "execute_result"
    }
   ],
   "source": [
    "scaler = MinMaxScaler()\n",
    "df2['SalesScaled'] = scaler.fit_transform(df2[['Sales']])\n",
    "\n",
    "df2.head()"
   ]
  },
  {
   "cell_type": "code",
   "execution_count": 14,
   "id": "b5ef6f6d",
   "metadata": {},
   "outputs": [
    {
     "data": {
      "image/png": "[encoded data removed]",
      "text/plain": [
       "<Figure size 2160x1440 with 2 Axes>"
      ]
     },
     "metadata": {
      "needs_background": "light"
     },
     "output_type": "display_data"
    }
   ],
   "source": [
    "### Plot\n",
    "fig = plt.figure()\n",
    "gs = GridSpec(2, 1, figure=fig)\n",
    "\n",
    "fig.set_figheight(20)\n",
    "fig.set_figwidth(30)\n",
    "fig.tight_layout(pad=15)\n",
    "\n",
    "M = 100\n",
    "xticks = ticker.MaxNLocator(M)\n",
    "\n",
    "ax1 = fig.add_subplot(gs[0,0])\n",
    "ax1.plot(df2.index, df2.Sales, 'b-')\n",
    "ax1.xaxis.set_major_locator(xticks)\n",
    "ax1.tick_params(labelrotation=90)\n",
    "ax1.set_xlabel('Date')\n",
    "ax1.set_ylabel('Thousands of Units')\n",
    "ax1.title.set_text('Time Series Plot of House Sales')\n",
    "ax1.grid(True)\n",
    "\n",
    "ax2 = fig.add_subplot(gs[1,0])\n",
    "ax2.plot(df2.index, df2.SalesScaled, 'g-')\n",
    "ax2.xaxis.set_major_locator(xticks)\n",
    "ax2.tick_params(labelrotation=90)\n",
    "ax2.set_xlabel('Date')\n",
    "ax2.set_ylabel('Scaled Units')\n",
    "ax2.title.set_text('Time Series Plot of Min Max Scaled House Sales')\n",
    "ax2.grid(True)\n",
    "plt.show()"
   ]
  },
  {
   "cell_type": "code",
   "execution_count": 15,
   "id": "173813c0",
   "metadata": {},
   "outputs": [
    {
     "data": {
      "image/png": "[encoded data removed]",
      "text/plain": [
       "<Figure size 2160x1440 with 2 Axes>"
      ]
     },
     "metadata": {
      "needs_background": "light"
     },
     "output_type": "display_data"
    }
   ],
   "source": [
    "fig = plt.figure()\n",
    "gs = GridSpec(2, 1, figure=fig)\n",
    "\n",
    "fig.set_figheight(20)\n",
    "fig.set_figwidth(30)\n",
    "fig.tight_layout(pad=6)\n",
    "\n",
    "ax1 = fig.add_subplot(gs[0,0])\n",
    "ax1.hist(df2.Sales, density=True, bins=60)\n",
    "ax1.title.set_text('Histogram House Sales')\n",
    "ax1.grid(True)\n",
    "\n",
    "ax2 = fig.add_subplot(gs[1,0])\n",
    "ax2.hist(df2.SalesScaled, density=True, bins=60)\n",
    "ax2.title.set_text('Histogram of the of Min Max Scaled Sales')\n",
    "ax2.grid(True)\n",
    "plt.show()"
   ]
  },
  {
   "cell_type": "markdown",
   "id": "62effe4c",
   "metadata": {},
   "source": [
    "##### Check whether your time Series Data is Stationary"
   ]
  },
  {
   "cell_type": "code",
   "execution_count": 16,
   "id": "2f56206b",
   "metadata": {},
   "outputs": [],
   "source": [
    "#Unit Root Tests helps us determine the stationarity of our data\n",
    "#adfResult = adfuller(df2.Sales.values, autolag='AIC')\n",
    "#print(f'ADF Statistic: {adfResult[0]}')\n",
    "#print(f'p-value: {adfResult[1]}')"
   ]
  },
  {
   "cell_type": "code",
   "execution_count": 17,
   "id": "fec8e5e3",
   "metadata": {},
   "outputs": [],
   "source": [
    "#adfResult = adfuller(df2.SalesScaled.values, autolag='AIC')\n",
    "#print(f'ADF Statistic: {adfResult[0]}')\n",
    "#print(f'p-value: {adfResult[1]}')"
   ]
  },
  {
   "cell_type": "markdown",
   "id": "2824db74",
   "metadata": {},
   "source": [
    "##### Depending on your conclusion from 2 above difference your time series data"
   ]
  },
  {
   "cell_type": "code",
   "execution_count": 18,
   "id": "efa3cc03",
   "metadata": {},
   "outputs": [],
   "source": [
    "#def difference(dataset, interval=1):\n",
    "#    diff = list()\n",
    " #   for i in range(interval, len(dataset)):\n",
    "#        value = dataset[i] - dataset[i - interval]\n",
    " #       diff.append(value)\n",
    " #   return pd.Series(diff)\n",
    "\n",
    "#salesScaledDiff = difference(d2f.SalesScaled.values)\n",
    "#salesScaledDiff"
   ]
  },
  {
   "cell_type": "markdown",
   "id": "ecf931ec",
   "metadata": {},
   "source": [
    "##### Transform the time series data into supervised learning data by creating a new y(target) column. As illustrated here in the Sliding Window For Time Series Data section"
   ]
  },
  {
   "cell_type": "code",
   "execution_count": 19,
   "id": "f4688b1b",
   "metadata": {},
   "outputs": [],
   "source": [
    "#acfSalesScaled = acf(d2f.SalesScaled.values, fft=True, nlags=40)\n",
    "##acfSalesScaledNp = np.array(acfSalesScaled)"
   ]
  },
  {
   "cell_type": "code",
   "execution_count": 20,
   "id": "548f2d24",
   "metadata": {},
   "outputs": [],
   "source": [
    "#def corrPlots(array: np.array, prefix: str):\n",
    "#    plt.figure(figsize=(30, 5))\n",
    "#    plt.title(f\"{prefix}  Autocorrelations of House Sales Min Max Scaled\")\n",
    "#    plt.bar(range(len(array)), array)\n",
    "#    plt.grid(True)\n",
    " #   plt.show()\n",
    "#corrPlots(acfSalesScaledNp, '')"
   ]
  },
  {
   "cell_type": "code",
   "execution_count": 21,
   "id": "114751e3",
   "metadata": {},
   "outputs": [],
   "source": [
    "#pacfSalesScaled = pacf(sales_df.SalesScaled.values, nlags=40)\n",
    "#pacfSalesScaledNp = np.array(pacfSalesScaled)\n",
    "#corrPlots(pacfSalesScaledNp, \"Partial\")"
   ]
  },
  {
   "cell_type": "markdown",
   "id": "712113e9",
   "metadata": {},
   "source": [
    "##### Training/Test/Validation Split"
   ]
  },
  {
   "cell_type": "code",
   "execution_count": 26,
   "id": "42091854",
   "metadata": {},
   "outputs": [
    {
     "name": "stdout",
     "output_type": "stream",
     "text": [
      "<class 'pandas.core.frame.DataFrame'>\n",
      "DatetimeIndex: 1017209 entries, 2015-07-31 to 2013-01-01\n",
      "Data columns (total 1 columns):\n",
      " #   Column  Non-Null Count    Dtype  \n",
      "---  ------  --------------    -----  \n",
      " 0   Sales   1017209 non-null  float64\n",
      "dtypes: float64(1)\n",
      "memory usage: 15.5 MB\n"
     ]
    }
   ],
   "source": [
    "df2.info()"
   ]
  },
  {
   "cell_type": "code",
   "execution_count": 27,
   "id": "9a0ce952",
   "metadata": {},
   "outputs": [
    {
     "name": "stdout",
     "output_type": "stream",
     "text": [
      "(712046, 1) (305163, 1)\n"
     ]
    }
   ],
   "source": [
    "train_size = int(len(df2) * 0.70)\n",
    "test_size = len(df2) - train_size\n",
    "train, testt = df2.iloc[0:train_size], df2.iloc[train_size:len(df2)]\n",
    "print(train.shape, testt.shape)"
   ]
  },
  {
   "cell_type": "code",
   "execution_count": 28,
   "id": "6dc3fd2e",
   "metadata": {},
   "outputs": [
    {
     "name": "stdout",
     "output_type": "stream",
     "text": [
      "(152582, 1) (152581, 1)\n"
     ]
    }
   ],
   "source": [
    "test_size = int(len(testt) * 0.50)\n",
    "val_size = len(testt) - test_size\n",
    "test, val = testt.iloc[0:test_size], testt.iloc[test_size:len(testt)]\n",
    "print(val.shape, test.shape)"
   ]
  },
  {
   "cell_type": "code",
   "execution_count": 29,
   "id": "69b3ae72",
   "metadata": {},
   "outputs": [
    {
     "name": "stderr",
     "output_type": "stream",
     "text": [
      "C:\\Users\\user\\AppData\\Local\\Temp\\ipykernel_12012\\3824148808.py:6: SettingWithCopyWarning: \n",
      "A value is trying to be set on a copy of a slice from a DataFrame.\n",
      "Try using .loc[row_indexer,col_indexer] = value instead\n",
      "\n",
      "See the caveats in the documentation: https://pandas.pydata.org/pandas-docs/stable/user_guide/indexing.html#returning-a-view-versus-a-copy\n",
      "  train['Sales'] = scaler.transform(train[['Sales']])\n",
      "C:\\Users\\user\\AppData\\Local\\Temp\\ipykernel_12012\\3824148808.py:7: SettingWithCopyWarning: \n",
      "A value is trying to be set on a copy of a slice from a DataFrame.\n",
      "Try using .loc[row_indexer,col_indexer] = value instead\n",
      "\n",
      "See the caveats in the documentation: https://pandas.pydata.org/pandas-docs/stable/user_guide/indexing.html#returning-a-view-versus-a-copy\n",
      "  test['Sales'] = scaler.transform(test[['Sales']])\n",
      "C:\\Users\\user\\AppData\\Local\\Temp\\ipykernel_12012\\3824148808.py:8: SettingWithCopyWarning: \n",
      "A value is trying to be set on a copy of a slice from a DataFrame.\n",
      "Try using .loc[row_indexer,col_indexer] = value instead\n",
      "\n",
      "See the caveats in the documentation: https://pandas.pydata.org/pandas-docs/stable/user_guide/indexing.html#returning-a-view-versus-a-copy\n",
      "  val['Sales'] = scaler.transform(val[['Sales']])\n"
     ]
    }
   ],
   "source": [
    "from sklearn.preprocessing import StandardScaler\n",
    "\n",
    "scaler = StandardScaler()\n",
    "scaler = scaler.fit(train[['Sales']])\n",
    "\n",
    "train['Sales'] = scaler.transform(train[['Sales']])\n",
    "test['Sales'] = scaler.transform(test[['Sales']])\n",
    "val['Sales'] = scaler.transform(val[['Sales']])"
   ]
  },
  {
   "cell_type": "code",
   "execution_count": 30,
   "id": "f5a8a6e5",
   "metadata": {},
   "outputs": [],
   "source": [
    "TIME_STEPS=30\n",
    "\n",
    "def create_sequences(X, y, time_steps=TIME_STEPS):\n",
    "    Xs, ys = [], []\n",
    "    for i in range(len(X)-time_steps):\n",
    "        Xs.append(X.iloc[i:(i+time_steps)].values)\n",
    "        ys.append(y.iloc[i+time_steps])\n",
    "    \n",
    "    return np.array(Xs), np.array(ys)"
   ]
  },
  {
   "cell_type": "code",
   "execution_count": 31,
   "id": "1070f280",
   "metadata": {},
   "outputs": [
    {
     "name": "stdout",
     "output_type": "stream",
     "text": [
      "Training shape: (712016, 30, 1)\n",
      "Testing shape: (152551, 30, 1)\n",
      "Testing shape: (152552, 30, 1)\n",
      "Testing shape: (712016,)\n",
      "Testing shape: (152551,)\n",
      "Testing shape: (152552,)\n"
     ]
    }
   ],
   "source": [
    "X_train, y_train = create_sequences(train[['Sales']], train['Sales'])\n",
    "X_test, y_test = create_sequences(test[['Sales']], test['Sales'])\n",
    "X_val, y_val = create_sequences(val[['Sales']], val['Sales'])\n",
    "\n",
    "print(f'Training shape: {X_train.shape}')\n",
    "print(f'Testing shape: {X_test.shape}')\n",
    "print(f'Testing shape: {X_val.shape}')\n",
    "\n",
    "print(f'Testing shape: {y_train.shape}')\n",
    "print(f'Testing shape: {y_test.shape}')\n",
    "print(f'Testing shape: {y_val.shape}')"
   ]
  },
  {
   "cell_type": "markdown",
   "id": "6143ac0e",
   "metadata": {},
   "source": [
    "##### Build a Model"
   ]
  },
  {
   "cell_type": "code",
   "execution_count": null,
   "id": "454cf93b",
   "metadata": {},
   "outputs": [],
   "source": [
    "model = Sequential()\n",
    "model.add(LSTM(128, input_shape=(X_train.shape[1], X_train.shape[2])))\n",
    "model.add(Dropout(rate=0.2))\n",
    "\n",
    "model.add(RepeatVector(X_train.shape[1]))\n",
    "model.add(LSTM(128, return_sequences=True))\n",
    "\n",
    "model.add(Dropout(rate=0.2))\n",
    "model.add(TimeDistributed(Dense(X_train.shape[2])))\n",
    "\n",
    "model.compile(optimizer=tf.keras.optimizers.Adam(learning_rate=0.0001, epsilon=1e-08, decay=0.01), loss='mae')\n",
    "model.summary()"
   ]
  },
  {
   "cell_type": "code",
   "execution_count": null,
   "id": "e8cbabc4",
   "metadata": {},
   "outputs": [],
   "source": [
    "report = model.fit(X_train, y_train, epochs=10, batch_size=60, validation_data=(X_val, y_val),\n",
    "                    callbacks=[keras.callbacks.EarlyStopping(monitor='val_loss', patience=3, mode='min')], shuffle=False)"
   ]
  },
  {
   "cell_type": "markdown",
   "id": "aa65ba45",
   "metadata": {},
   "source": [
    "Plot metrics"
   ]
  },
  {
   "cell_type": "code",
   "execution_count": null,
   "id": "b94fe28b",
   "metadata": {},
   "outputs": [],
   "source": [
    "plt.plot(report.report['loss'], label='train')\n",
    "plt.plot(report.report['val_loss'], label='val')\n",
    "plt.legend()\n",
    "plt.show()"
   ]
  },
  {
   "cell_type": "code",
   "execution_count": null,
   "id": "9dc43895",
   "metadata": {},
   "outputs": [],
   "source": [
    "X_test_pred = model.predict(X_test)\n",
    "\n",
    "test_mae_loss = np.mean(np.abs(X_test_pred - X_test), axis=1)"
   ]
  },
  {
   "cell_type": "markdown",
   "id": "1940d7e1",
   "metadata": {},
   "source": [
    "##### Evaluate model"
   ]
  },
  {
   "cell_type": "code",
   "execution_count": null,
   "id": "e148eccf",
   "metadata": {},
   "outputs": [],
   "source": [
    "model.evaluate(X_test, y_test)"
   ]
  },
  {
   "cell_type": "code",
   "execution_count": null,
   "id": "0670d021",
   "metadata": {},
   "outputs": [],
   "source": [
    "X_train_pred = model.predict(X_train)\n",
    "\n",
    "train_mae_loss = pd.DataFrame(np.mean(np.abs(X_train_pred - X_train), axis=1), columns=['Error'])\n",
    "train_mae_loss"
   ]
  },
  {
   "cell_type": "code",
   "execution_count": null,
   "id": "b17c2d8b",
   "metadata": {},
   "outputs": [],
   "source": [
    "sns.distplot(train_mae_loss, bins=50, kde=True)\n",
    "plt.show()"
   ]
  },
  {
   "cell_type": "code",
   "execution_count": null,
   "id": "33c4bc2c",
   "metadata": {},
   "outputs": [],
   "source": [
    "X_test_pred = model.predict(X_test)\n",
    "\n",
    "test_mae_loss = np.mean(np.abs(X_test_pred - X_test), axis=1)"
   ]
  },
  {
   "cell_type": "code",
   "execution_count": null,
   "id": "74797561",
   "metadata": {},
   "outputs": [],
   "source": [
    "THRESHOLD = 0.65\n",
    "\n",
    "test_score_df = pd.DataFrame(index=test[TIME_STEPS:].index)\n",
    "test_score_df['loss'] = test_mae_loss\n",
    "test_score_df['threshold'] = THRESHOLD\n",
    "test_score_df['anomaly'] = test_score_df.loss > test_score_df.threshold\n",
    "test_score_df['Sales'] = test[TIME_STEPS:].Sales\n",
    "test_score_df"
   ]
  },
  {
   "cell_type": "code",
   "execution_count": null,
   "id": "f3ed5393",
   "metadata": {},
   "outputs": [],
   "source": [
    "plt.plot(test_score_df.index, test_score_df.loss, label='loss')\n",
    "plt.plot(test_score_df.index, test_score_df.threshold, label='threshold')\n",
    "plt.xticks(rotation=25)\n",
    "plt.legend()\n",
    "plt.show()"
   ]
  },
  {
   "cell_type": "markdown",
   "id": "895a62b3",
   "metadata": {},
   "source": [
    "###### preprocessing"
   ]
  },
  {
   "cell_type": "code",
   "execution_count": 72,
   "id": "9cbb538e",
   "metadata": {},
   "outputs": [
    {
     "name": "stderr",
     "output_type": "stream",
     "text": [
      "C:\\Users\\user\\AppData\\Local\\Temp\\ipykernel_12012\\1574107383.py:1: DtypeWarning: Columns (7) have mixed types. Specify dtype option on import or set low_memory=False.\n",
      "  df = pd.read_csv('../data/train_processed.csv', parse_dates=['Date'])\n"
     ]
    },
    {
     "name": "stdout",
     "output_type": "stream",
     "text": [
      "The dataset contains 1017209 Sales Data\n"
     ]
    },
    {
     "data": {
      "text/html": [
       "<div>\n",
       "<style scoped>\n",
       "    .dataframe tbody tr th:only-of-type {\n",
       "        vertical-align: middle;\n",
       "    }\n",
       "\n",
       "    .dataframe tbody tr th {\n",
       "        vertical-align: top;\n",
       "    }\n",
       "\n",
       "    .dataframe thead th {\n",
       "        text-align: right;\n",
       "    }\n",
       "</style>\n",
       "<table border=\"1\" class=\"dataframe\">\n",
       "  <thead>\n",
       "    <tr style=\"text-align: right;\">\n",
       "      <th></th>\n",
       "      <th>Date</th>\n",
       "      <th>Store</th>\n",
       "      <th>DayOfWeek</th>\n",
       "      <th>Sales</th>\n",
       "      <th>Open</th>\n",
       "      <th>Promo</th>\n",
       "      <th>StateHoliday</th>\n",
       "      <th>SchoolHoliday</th>\n",
       "      <th>CompetitionDistance</th>\n",
       "      <th>CompetitionOpenSinceMonth</th>\n",
       "      <th>CompetitionOpenSinceYear</th>\n",
       "      <th>Promo2</th>\n",
       "      <th>Promo2SinceWeek</th>\n",
       "      <th>Promo2SinceYear</th>\n",
       "      <th>Year</th>\n",
       "      <th>Month</th>\n",
       "      <th>Day</th>\n",
       "      <th>weekday</th>\n",
       "      <th>weekofyear</th>\n",
       "      <th>weekend</th>\n",
       "      <th>PromoInterval</th>\n",
       "      <th>Assortment</th>\n",
       "      <th>StoreType</th>\n",
       "    </tr>\n",
       "  </thead>\n",
       "  <tbody>\n",
       "    <tr>\n",
       "      <th>0</th>\n",
       "      <td>2015-07-31</td>\n",
       "      <td>1</td>\n",
       "      <td>4</td>\n",
       "      <td>5263.0</td>\n",
       "      <td>1</td>\n",
       "      <td>1</td>\n",
       "      <td>0</td>\n",
       "      <td>1</td>\n",
       "      <td>1270.0</td>\n",
       "      <td>9.0</td>\n",
       "      <td>2008.0</td>\n",
       "      <td>0</td>\n",
       "      <td>22.0</td>\n",
       "      <td>2012.0</td>\n",
       "      <td>2015</td>\n",
       "      <td>7</td>\n",
       "      <td>31</td>\n",
       "      <td>4</td>\n",
       "      <td>31</td>\n",
       "      <td>0</td>\n",
       "      <td>1</td>\n",
       "      <td>0</td>\n",
       "      <td>2</td>\n",
       "    </tr>\n",
       "    <tr>\n",
       "      <th>1</th>\n",
       "      <td>2015-07-31</td>\n",
       "      <td>2</td>\n",
       "      <td>4</td>\n",
       "      <td>6064.0</td>\n",
       "      <td>1</td>\n",
       "      <td>1</td>\n",
       "      <td>0</td>\n",
       "      <td>1</td>\n",
       "      <td>570.0</td>\n",
       "      <td>11.0</td>\n",
       "      <td>2007.0</td>\n",
       "      <td>1</td>\n",
       "      <td>13.0</td>\n",
       "      <td>2010.0</td>\n",
       "      <td>2015</td>\n",
       "      <td>7</td>\n",
       "      <td>31</td>\n",
       "      <td>4</td>\n",
       "      <td>31</td>\n",
       "      <td>0</td>\n",
       "      <td>1</td>\n",
       "      <td>0</td>\n",
       "      <td>0</td>\n",
       "    </tr>\n",
       "    <tr>\n",
       "      <th>2</th>\n",
       "      <td>2015-07-31</td>\n",
       "      <td>3</td>\n",
       "      <td>4</td>\n",
       "      <td>8314.0</td>\n",
       "      <td>1</td>\n",
       "      <td>1</td>\n",
       "      <td>0</td>\n",
       "      <td>1</td>\n",
       "      <td>14130.0</td>\n",
       "      <td>12.0</td>\n",
       "      <td>2006.0</td>\n",
       "      <td>1</td>\n",
       "      <td>14.0</td>\n",
       "      <td>2011.0</td>\n",
       "      <td>2015</td>\n",
       "      <td>7</td>\n",
       "      <td>31</td>\n",
       "      <td>4</td>\n",
       "      <td>31</td>\n",
       "      <td>0</td>\n",
       "      <td>1</td>\n",
       "      <td>0</td>\n",
       "      <td>0</td>\n",
       "    </tr>\n",
       "  </tbody>\n",
       "</table>\n",
       "</div>"
      ],
      "text/plain": [
       "        Date  Store  DayOfWeek   Sales  Open  Promo StateHoliday  \\\n",
       "0 2015-07-31      1          4  5263.0     1      1            0   \n",
       "1 2015-07-31      2          4  6064.0     1      1            0   \n",
       "2 2015-07-31      3          4  8314.0     1      1            0   \n",
       "\n",
       "   SchoolHoliday  CompetitionDistance  CompetitionOpenSinceMonth  \\\n",
       "0              1               1270.0                        9.0   \n",
       "1              1                570.0                       11.0   \n",
       "2              1              14130.0                       12.0   \n",
       "\n",
       "   CompetitionOpenSinceYear  Promo2  Promo2SinceWeek  Promo2SinceYear  Year  \\\n",
       "0                    2008.0       0             22.0           2012.0  2015   \n",
       "1                    2007.0       1             13.0           2010.0  2015   \n",
       "2                    2006.0       1             14.0           2011.0  2015   \n",
       "\n",
       "   Month  Day  weekday  weekofyear  weekend  PromoInterval  Assortment  \\\n",
       "0      7   31        4          31        0              1           0   \n",
       "1      7   31        4          31        0              1           0   \n",
       "2      7   31        4          31        0              1           0   \n",
       "\n",
       "   StoreType  \n",
       "0          2  \n",
       "1          0  \n",
       "2          0  "
      ]
     },
     "execution_count": 72,
     "metadata": {},
     "output_type": "execute_result"
    }
   ],
   "source": [
    "df = pd.read_csv('../data/train_processed.csv', parse_dates=['Date'])\n",
    "df.drop(['Unnamed: 0'], axis=1, inplace=True)\n",
    "print(f\"The dataset contains {len(df)} Sales Data\")\n",
    "pd.set_option('display.max_columns', len(df.columns)) # To view all columns , , index_col='Date'\n",
    "pd.set_option('display.max_rows', 100)\n",
    "df.head(3)"
   ]
  },
  {
   "cell_type": "code",
   "execution_count": 61,
   "id": "9a08954c",
   "metadata": {},
   "outputs": [
    {
     "data": {
      "text/plain": [
       "Index(['Date', 'Store', 'DayOfWeek', 'Sales', 'Open', 'Promo', 'StateHoliday',\n",
       "       'SchoolHoliday', 'CompetitionDistance', 'CompetitionOpenSinceMonth',\n",
       "       'CompetitionOpenSinceYear', 'Promo2', 'Promo2SinceWeek',\n",
       "       'Promo2SinceYear', 'Year', 'Month', 'Day', 'weekday', 'weekofyear',\n",
       "       'weekend', 'PromoInterval', 'Assortment', 'StoreType'],\n",
       "      dtype='object')"
      ]
     },
     "execution_count": 61,
     "metadata": {},
     "output_type": "execute_result"
    }
   ],
   "source": [
    "df.columns"
   ]
  },
  {
   "cell_type": "code",
   "execution_count": 62,
   "id": "71b27f22",
   "metadata": {},
   "outputs": [
    {
     "data": {
      "text/html": [
       "<div>\n",
       "<style scoped>\n",
       "    .dataframe tbody tr th:only-of-type {\n",
       "        vertical-align: middle;\n",
       "    }\n",
       "\n",
       "    .dataframe tbody tr th {\n",
       "        vertical-align: top;\n",
       "    }\n",
       "\n",
       "    .dataframe thead th {\n",
       "        text-align: right;\n",
       "    }\n",
       "</style>\n",
       "<table border=\"1\" class=\"dataframe\">\n",
       "  <thead>\n",
       "    <tr style=\"text-align: right;\">\n",
       "      <th></th>\n",
       "      <th>Date</th>\n",
       "      <th>Sales</th>\n",
       "    </tr>\n",
       "  </thead>\n",
       "  <tbody>\n",
       "    <tr>\n",
       "      <th>0</th>\n",
       "      <td>2015-07-31</td>\n",
       "      <td>5263.0</td>\n",
       "    </tr>\n",
       "    <tr>\n",
       "      <th>1</th>\n",
       "      <td>2015-07-31</td>\n",
       "      <td>6064.0</td>\n",
       "    </tr>\n",
       "    <tr>\n",
       "      <th>2</th>\n",
       "      <td>2015-07-31</td>\n",
       "      <td>8314.0</td>\n",
       "    </tr>\n",
       "    <tr>\n",
       "      <th>3</th>\n",
       "      <td>2015-07-31</td>\n",
       "      <td>13995.0</td>\n",
       "    </tr>\n",
       "    <tr>\n",
       "      <th>4</th>\n",
       "      <td>2015-07-31</td>\n",
       "      <td>4822.0</td>\n",
       "    </tr>\n",
       "    <tr>\n",
       "      <th>...</th>\n",
       "      <td>...</td>\n",
       "      <td>...</td>\n",
       "    </tr>\n",
       "    <tr>\n",
       "      <th>1017204</th>\n",
       "      <td>2013-01-01</td>\n",
       "      <td>0.0</td>\n",
       "    </tr>\n",
       "    <tr>\n",
       "      <th>1017205</th>\n",
       "      <td>2013-01-01</td>\n",
       "      <td>0.0</td>\n",
       "    </tr>\n",
       "    <tr>\n",
       "      <th>1017206</th>\n",
       "      <td>2013-01-01</td>\n",
       "      <td>0.0</td>\n",
       "    </tr>\n",
       "    <tr>\n",
       "      <th>1017207</th>\n",
       "      <td>2013-01-01</td>\n",
       "      <td>0.0</td>\n",
       "    </tr>\n",
       "    <tr>\n",
       "      <th>1017208</th>\n",
       "      <td>2013-01-01</td>\n",
       "      <td>0.0</td>\n",
       "    </tr>\n",
       "  </tbody>\n",
       "</table>\n",
       "<p>1017209 rows × 2 columns</p>\n",
       "</div>"
      ],
      "text/plain": [
       "              Date    Sales\n",
       "0       2015-07-31   5263.0\n",
       "1       2015-07-31   6064.0\n",
       "2       2015-07-31   8314.0\n",
       "3       2015-07-31  13995.0\n",
       "4       2015-07-31   4822.0\n",
       "...            ...      ...\n",
       "1017204 2013-01-01      0.0\n",
       "1017205 2013-01-01      0.0\n",
       "1017206 2013-01-01      0.0\n",
       "1017207 2013-01-01      0.0\n",
       "1017208 2013-01-01      0.0\n",
       "\n",
       "[1017209 rows x 2 columns]"
      ]
     },
     "execution_count": 62,
     "metadata": {},
     "output_type": "execute_result"
    }
   ],
   "source": [
    "# Drop Year columns\n",
    "df = df.drop(['Store', 'DayOfWeek', 'Open', 'Promo', 'StateHoliday',\n",
    "       'SchoolHoliday', 'CompetitionDistance', 'CompetitionOpenSinceMonth',\n",
    "       'CompetitionOpenSinceYear', 'Promo2', 'Promo2SinceWeek',\n",
    "       'Promo2SinceYear', 'Year', 'Month', 'Day', 'weekday', 'weekofyear',\n",
    "       'weekend', 'PromoInterval', 'Assortment', 'StoreType'], axis = 1)\n",
    "df"
   ]
  },
  {
   "cell_type": "code",
   "execution_count": 63,
   "id": "6b28a91a",
   "metadata": {},
   "outputs": [],
   "source": [
    "df = df[df['Sales'] > 0.0]"
   ]
  },
  {
   "cell_type": "code",
   "execution_count": 65,
   "id": "f9af3b43",
   "metadata": {},
   "outputs": [],
   "source": [
    "#drop_cols = ['CompetitionOpenSinceYear', 'Promo2SinceYear']\n",
    "#df.drop(drop_cols, axis=1, inplace=True)\n",
    "#df"
   ]
  },
  {
   "cell_type": "code",
   "execution_count": 66,
   "id": "45067881",
   "metadata": {},
   "outputs": [],
   "source": [
    "#df.drop('Year', axis=1, inplace=True)"
   ]
  },
  {
   "cell_type": "code",
   "execution_count": 67,
   "id": "9f3f4129",
   "metadata": {},
   "outputs": [
    {
     "data": {
      "image/png": "[encoded data removed]",
      "text/plain": [
       "<Figure size 1440x1080 with 1 Axes>"
      ]
     },
     "metadata": {
      "needs_background": "light"
     },
     "output_type": "display_data"
    }
   ],
   "source": [
    "import matplotlib.pyplot as plt\n",
    "df.plot(x='Date', figsize=(20, 15))\n",
    "plt.ylabel(\"Sales\")\n",
    "plt.title(\"Sales\", fontsize=16)\n",
    "plt.legend(fontsize=14);\n",
    "plt.show()"
   ]
  },
  {
   "cell_type": "markdown",
   "id": "2db97ac6",
   "metadata": {},
   "source": [
    "##### Validation Split"
   ]
  },
  {
   "cell_type": "code",
   "execution_count": 80,
   "id": "13ebc78a",
   "metadata": {},
   "outputs": [
    {
     "name": "stdout",
     "output_type": "stream",
     "text": [
      "(712046, 19) (305163, 19)\n"
     ]
    }
   ],
   "source": [
    "train_size = int(len(df) * 0.70)\n",
    "test_size = len(df) - train_size\n",
    "train, testt = df.iloc[0:train_size], df.iloc[train_size:len(df)]\n",
    "print(train.shape, testt.shape)"
   ]
  },
  {
   "cell_type": "code",
   "execution_count": 81,
   "id": "6d209896",
   "metadata": {},
   "outputs": [
    {
     "name": "stdout",
     "output_type": "stream",
     "text": [
      "(152582, 19) (152581, 19)\n"
     ]
    }
   ],
   "source": [
    "test_size = int(len(testt) * 0.50)\n",
    "val_size = len(testt) - test_size\n",
    "test, val = testt.iloc[0:test_size], testt.iloc[test_size:len(testt)]\n",
    "print(val.shape, test.shape)"
   ]
  },
  {
   "cell_type": "code",
   "execution_count": 83,
   "id": "2b81ca81",
   "metadata": {},
   "outputs": [],
   "source": [
    "drop_cols = ['CompetitionOpenSinceYear', 'Promo2SinceYear', 'Year', 'StateHoliday']\n",
    "df.drop(drop_cols, axis=1, inplace=True)"
   ]
  },
  {
   "cell_type": "code",
   "execution_count": 84,
   "id": "bb700c4f",
   "metadata": {},
   "outputs": [
    {
     "data": {
      "text/html": [
       "<div>\n",
       "<style scoped>\n",
       "    .dataframe tbody tr th:only-of-type {\n",
       "        vertical-align: middle;\n",
       "    }\n",
       "\n",
       "    .dataframe tbody tr th {\n",
       "        vertical-align: top;\n",
       "    }\n",
       "\n",
       "    .dataframe thead th {\n",
       "        text-align: right;\n",
       "    }\n",
       "</style>\n",
       "<table border=\"1\" class=\"dataframe\">\n",
       "  <thead>\n",
       "    <tr style=\"text-align: right;\">\n",
       "      <th></th>\n",
       "      <th>Date</th>\n",
       "      <th>Store</th>\n",
       "      <th>DayOfWeek</th>\n",
       "      <th>Sales</th>\n",
       "      <th>Open</th>\n",
       "      <th>Promo</th>\n",
       "      <th>SchoolHoliday</th>\n",
       "      <th>CompetitionDistance</th>\n",
       "      <th>CompetitionOpenSinceMonth</th>\n",
       "      <th>Promo2</th>\n",
       "      <th>Promo2SinceWeek</th>\n",
       "      <th>Month</th>\n",
       "      <th>Day</th>\n",
       "      <th>weekday</th>\n",
       "      <th>weekofyear</th>\n",
       "      <th>weekend</th>\n",
       "      <th>PromoInterval</th>\n",
       "      <th>Assortment</th>\n",
       "      <th>StoreType</th>\n",
       "    </tr>\n",
       "  </thead>\n",
       "  <tbody>\n",
       "    <tr>\n",
       "      <th>0</th>\n",
       "      <td>2015-07-31</td>\n",
       "      <td>1</td>\n",
       "      <td>4</td>\n",
       "      <td>5263.0</td>\n",
       "      <td>1</td>\n",
       "      <td>1</td>\n",
       "      <td>1</td>\n",
       "      <td>1270.0</td>\n",
       "      <td>9.0</td>\n",
       "      <td>0</td>\n",
       "      <td>22.0</td>\n",
       "      <td>7</td>\n",
       "      <td>31</td>\n",
       "      <td>4</td>\n",
       "      <td>31</td>\n",
       "      <td>0</td>\n",
       "      <td>1</td>\n",
       "      <td>0</td>\n",
       "      <td>2</td>\n",
       "    </tr>\n",
       "    <tr>\n",
       "      <th>1</th>\n",
       "      <td>2015-07-31</td>\n",
       "      <td>2</td>\n",
       "      <td>4</td>\n",
       "      <td>6064.0</td>\n",
       "      <td>1</td>\n",
       "      <td>1</td>\n",
       "      <td>1</td>\n",
       "      <td>570.0</td>\n",
       "      <td>11.0</td>\n",
       "      <td>1</td>\n",
       "      <td>13.0</td>\n",
       "      <td>7</td>\n",
       "      <td>31</td>\n",
       "      <td>4</td>\n",
       "      <td>31</td>\n",
       "      <td>0</td>\n",
       "      <td>1</td>\n",
       "      <td>0</td>\n",
       "      <td>0</td>\n",
       "    </tr>\n",
       "    <tr>\n",
       "      <th>2</th>\n",
       "      <td>2015-07-31</td>\n",
       "      <td>3</td>\n",
       "      <td>4</td>\n",
       "      <td>8314.0</td>\n",
       "      <td>1</td>\n",
       "      <td>1</td>\n",
       "      <td>1</td>\n",
       "      <td>14130.0</td>\n",
       "      <td>12.0</td>\n",
       "      <td>1</td>\n",
       "      <td>14.0</td>\n",
       "      <td>7</td>\n",
       "      <td>31</td>\n",
       "      <td>4</td>\n",
       "      <td>31</td>\n",
       "      <td>0</td>\n",
       "      <td>1</td>\n",
       "      <td>0</td>\n",
       "      <td>0</td>\n",
       "    </tr>\n",
       "    <tr>\n",
       "      <th>3</th>\n",
       "      <td>2015-07-31</td>\n",
       "      <td>4</td>\n",
       "      <td>4</td>\n",
       "      <td>13995.0</td>\n",
       "      <td>1</td>\n",
       "      <td>1</td>\n",
       "      <td>1</td>\n",
       "      <td>620.0</td>\n",
       "      <td>9.0</td>\n",
       "      <td>0</td>\n",
       "      <td>22.0</td>\n",
       "      <td>7</td>\n",
       "      <td>31</td>\n",
       "      <td>4</td>\n",
       "      <td>31</td>\n",
       "      <td>0</td>\n",
       "      <td>1</td>\n",
       "      <td>2</td>\n",
       "      <td>2</td>\n",
       "    </tr>\n",
       "    <tr>\n",
       "      <th>4</th>\n",
       "      <td>2015-07-31</td>\n",
       "      <td>5</td>\n",
       "      <td>4</td>\n",
       "      <td>4822.0</td>\n",
       "      <td>1</td>\n",
       "      <td>1</td>\n",
       "      <td>1</td>\n",
       "      <td>29910.0</td>\n",
       "      <td>4.0</td>\n",
       "      <td>0</td>\n",
       "      <td>22.0</td>\n",
       "      <td>7</td>\n",
       "      <td>31</td>\n",
       "      <td>4</td>\n",
       "      <td>31</td>\n",
       "      <td>0</td>\n",
       "      <td>1</td>\n",
       "      <td>0</td>\n",
       "      <td>0</td>\n",
       "    </tr>\n",
       "    <tr>\n",
       "      <th>...</th>\n",
       "      <td>...</td>\n",
       "      <td>...</td>\n",
       "      <td>...</td>\n",
       "      <td>...</td>\n",
       "      <td>...</td>\n",
       "      <td>...</td>\n",
       "      <td>...</td>\n",
       "      <td>...</td>\n",
       "      <td>...</td>\n",
       "      <td>...</td>\n",
       "      <td>...</td>\n",
       "      <td>...</td>\n",
       "      <td>...</td>\n",
       "      <td>...</td>\n",
       "      <td>...</td>\n",
       "      <td>...</td>\n",
       "      <td>...</td>\n",
       "      <td>...</td>\n",
       "      <td>...</td>\n",
       "    </tr>\n",
       "    <tr>\n",
       "      <th>1017204</th>\n",
       "      <td>2013-01-01</td>\n",
       "      <td>1111</td>\n",
       "      <td>1</td>\n",
       "      <td>0.0</td>\n",
       "      <td>0</td>\n",
       "      <td>0</td>\n",
       "      <td>1</td>\n",
       "      <td>1900.0</td>\n",
       "      <td>6.0</td>\n",
       "      <td>1</td>\n",
       "      <td>31.0</td>\n",
       "      <td>1</td>\n",
       "      <td>1</td>\n",
       "      <td>1</td>\n",
       "      <td>1</td>\n",
       "      <td>0</td>\n",
       "      <td>1</td>\n",
       "      <td>0</td>\n",
       "      <td>0</td>\n",
       "    </tr>\n",
       "    <tr>\n",
       "      <th>1017205</th>\n",
       "      <td>2013-01-01</td>\n",
       "      <td>1112</td>\n",
       "      <td>1</td>\n",
       "      <td>0.0</td>\n",
       "      <td>0</td>\n",
       "      <td>0</td>\n",
       "      <td>1</td>\n",
       "      <td>1880.0</td>\n",
       "      <td>4.0</td>\n",
       "      <td>0</td>\n",
       "      <td>22.0</td>\n",
       "      <td>1</td>\n",
       "      <td>1</td>\n",
       "      <td>1</td>\n",
       "      <td>1</td>\n",
       "      <td>0</td>\n",
       "      <td>1</td>\n",
       "      <td>2</td>\n",
       "      <td>2</td>\n",
       "    </tr>\n",
       "    <tr>\n",
       "      <th>1017206</th>\n",
       "      <td>2013-01-01</td>\n",
       "      <td>1113</td>\n",
       "      <td>1</td>\n",
       "      <td>0.0</td>\n",
       "      <td>0</td>\n",
       "      <td>0</td>\n",
       "      <td>1</td>\n",
       "      <td>9260.0</td>\n",
       "      <td>8.0</td>\n",
       "      <td>0</td>\n",
       "      <td>22.0</td>\n",
       "      <td>1</td>\n",
       "      <td>1</td>\n",
       "      <td>1</td>\n",
       "      <td>1</td>\n",
       "      <td>0</td>\n",
       "      <td>1</td>\n",
       "      <td>2</td>\n",
       "      <td>0</td>\n",
       "    </tr>\n",
       "    <tr>\n",
       "      <th>1017207</th>\n",
       "      <td>2013-01-01</td>\n",
       "      <td>1114</td>\n",
       "      <td>1</td>\n",
       "      <td>0.0</td>\n",
       "      <td>0</td>\n",
       "      <td>0</td>\n",
       "      <td>1</td>\n",
       "      <td>870.0</td>\n",
       "      <td>8.0</td>\n",
       "      <td>0</td>\n",
       "      <td>22.0</td>\n",
       "      <td>1</td>\n",
       "      <td>1</td>\n",
       "      <td>1</td>\n",
       "      <td>1</td>\n",
       "      <td>0</td>\n",
       "      <td>1</td>\n",
       "      <td>2</td>\n",
       "      <td>0</td>\n",
       "    </tr>\n",
       "    <tr>\n",
       "      <th>1017208</th>\n",
       "      <td>2013-01-01</td>\n",
       "      <td>1115</td>\n",
       "      <td>1</td>\n",
       "      <td>0.0</td>\n",
       "      <td>0</td>\n",
       "      <td>0</td>\n",
       "      <td>1</td>\n",
       "      <td>5350.0</td>\n",
       "      <td>8.0</td>\n",
       "      <td>1</td>\n",
       "      <td>22.0</td>\n",
       "      <td>1</td>\n",
       "      <td>1</td>\n",
       "      <td>1</td>\n",
       "      <td>1</td>\n",
       "      <td>0</td>\n",
       "      <td>2</td>\n",
       "      <td>2</td>\n",
       "      <td>3</td>\n",
       "    </tr>\n",
       "  </tbody>\n",
       "</table>\n",
       "<p>1017209 rows × 19 columns</p>\n",
       "</div>"
      ],
      "text/plain": [
       "              Date  Store  DayOfWeek    Sales  Open  Promo  SchoolHoliday  \\\n",
       "0       2015-07-31      1          4   5263.0     1      1              1   \n",
       "1       2015-07-31      2          4   6064.0     1      1              1   \n",
       "2       2015-07-31      3          4   8314.0     1      1              1   \n",
       "3       2015-07-31      4          4  13995.0     1      1              1   \n",
       "4       2015-07-31      5          4   4822.0     1      1              1   \n",
       "...            ...    ...        ...      ...   ...    ...            ...   \n",
       "1017204 2013-01-01   1111          1      0.0     0      0              1   \n",
       "1017205 2013-01-01   1112          1      0.0     0      0              1   \n",
       "1017206 2013-01-01   1113          1      0.0     0      0              1   \n",
       "1017207 2013-01-01   1114          1      0.0     0      0              1   \n",
       "1017208 2013-01-01   1115          1      0.0     0      0              1   \n",
       "\n",
       "         CompetitionDistance  CompetitionOpenSinceMonth  Promo2  \\\n",
       "0                     1270.0                        9.0       0   \n",
       "1                      570.0                       11.0       1   \n",
       "2                    14130.0                       12.0       1   \n",
       "3                      620.0                        9.0       0   \n",
       "4                    29910.0                        4.0       0   \n",
       "...                      ...                        ...     ...   \n",
       "1017204               1900.0                        6.0       1   \n",
       "1017205               1880.0                        4.0       0   \n",
       "1017206               9260.0                        8.0       0   \n",
       "1017207                870.0                        8.0       0   \n",
       "1017208               5350.0                        8.0       1   \n",
       "\n",
       "         Promo2SinceWeek  Month  Day  weekday  weekofyear  weekend  \\\n",
       "0                   22.0      7   31        4          31        0   \n",
       "1                   13.0      7   31        4          31        0   \n",
       "2                   14.0      7   31        4          31        0   \n",
       "3                   22.0      7   31        4          31        0   \n",
       "4                   22.0      7   31        4          31        0   \n",
       "...                  ...    ...  ...      ...         ...      ...   \n",
       "1017204             31.0      1    1        1           1        0   \n",
       "1017205             22.0      1    1        1           1        0   \n",
       "1017206             22.0      1    1        1           1        0   \n",
       "1017207             22.0      1    1        1           1        0   \n",
       "1017208             22.0      1    1        1           1        0   \n",
       "\n",
       "         PromoInterval  Assortment  StoreType  \n",
       "0                    1           0          2  \n",
       "1                    1           0          0  \n",
       "2                    1           0          0  \n",
       "3                    1           2          2  \n",
       "4                    1           0          0  \n",
       "...                ...         ...        ...  \n",
       "1017204              1           0          0  \n",
       "1017205              1           2          2  \n",
       "1017206              1           2          0  \n",
       "1017207              1           2          0  \n",
       "1017208              2           2          3  \n",
       "\n",
       "[1017209 rows x 19 columns]"
      ]
     },
     "execution_count": 84,
     "metadata": {},
     "output_type": "execute_result"
    }
   ],
   "source": [
    "df"
   ]
  },
  {
   "cell_type": "code",
   "execution_count": 85,
   "id": "fc07e2b6",
   "metadata": {},
   "outputs": [
    {
     "data": {
      "text/html": [
       "<div>\n",
       "<style scoped>\n",
       "    .dataframe tbody tr th:only-of-type {\n",
       "        vertical-align: middle;\n",
       "    }\n",
       "\n",
       "    .dataframe tbody tr th {\n",
       "        vertical-align: top;\n",
       "    }\n",
       "\n",
       "    .dataframe thead th {\n",
       "        text-align: right;\n",
       "    }\n",
       "</style>\n",
       "<table border=\"1\" class=\"dataframe\">\n",
       "  <thead>\n",
       "    <tr style=\"text-align: right;\">\n",
       "      <th></th>\n",
       "      <th>Date</th>\n",
       "      <th>Store</th>\n",
       "      <th>DayOfWeek</th>\n",
       "      <th>Sales</th>\n",
       "      <th>Open</th>\n",
       "      <th>Promo</th>\n",
       "      <th>SchoolHoliday</th>\n",
       "      <th>CompetitionDistance</th>\n",
       "      <th>CompetitionOpenSinceMonth</th>\n",
       "      <th>Promo2</th>\n",
       "      <th>Promo2SinceWeek</th>\n",
       "      <th>Month</th>\n",
       "      <th>Day</th>\n",
       "      <th>weekday</th>\n",
       "      <th>weekofyear</th>\n",
       "      <th>weekend</th>\n",
       "      <th>PromoInterval</th>\n",
       "      <th>Assortment</th>\n",
       "      <th>StoreType</th>\n",
       "    </tr>\n",
       "  </thead>\n",
       "  <tbody>\n",
       "    <tr>\n",
       "      <th>0</th>\n",
       "      <td>2015-07-31</td>\n",
       "      <td>1</td>\n",
       "      <td>4</td>\n",
       "      <td>5263.0</td>\n",
       "      <td>1</td>\n",
       "      <td>1</td>\n",
       "      <td>1</td>\n",
       "      <td>1270.0</td>\n",
       "      <td>9.0</td>\n",
       "      <td>0</td>\n",
       "      <td>22.0</td>\n",
       "      <td>7</td>\n",
       "      <td>31</td>\n",
       "      <td>4</td>\n",
       "      <td>31</td>\n",
       "      <td>0</td>\n",
       "      <td>1</td>\n",
       "      <td>0</td>\n",
       "      <td>2</td>\n",
       "    </tr>\n",
       "    <tr>\n",
       "      <th>1</th>\n",
       "      <td>2015-07-31</td>\n",
       "      <td>2</td>\n",
       "      <td>4</td>\n",
       "      <td>6064.0</td>\n",
       "      <td>1</td>\n",
       "      <td>1</td>\n",
       "      <td>1</td>\n",
       "      <td>570.0</td>\n",
       "      <td>11.0</td>\n",
       "      <td>1</td>\n",
       "      <td>13.0</td>\n",
       "      <td>7</td>\n",
       "      <td>31</td>\n",
       "      <td>4</td>\n",
       "      <td>31</td>\n",
       "      <td>0</td>\n",
       "      <td>1</td>\n",
       "      <td>0</td>\n",
       "      <td>0</td>\n",
       "    </tr>\n",
       "    <tr>\n",
       "      <th>2</th>\n",
       "      <td>2015-07-31</td>\n",
       "      <td>3</td>\n",
       "      <td>4</td>\n",
       "      <td>8314.0</td>\n",
       "      <td>1</td>\n",
       "      <td>1</td>\n",
       "      <td>1</td>\n",
       "      <td>14130.0</td>\n",
       "      <td>12.0</td>\n",
       "      <td>1</td>\n",
       "      <td>14.0</td>\n",
       "      <td>7</td>\n",
       "      <td>31</td>\n",
       "      <td>4</td>\n",
       "      <td>31</td>\n",
       "      <td>0</td>\n",
       "      <td>1</td>\n",
       "      <td>0</td>\n",
       "      <td>0</td>\n",
       "    </tr>\n",
       "    <tr>\n",
       "      <th>3</th>\n",
       "      <td>2015-07-31</td>\n",
       "      <td>4</td>\n",
       "      <td>4</td>\n",
       "      <td>13995.0</td>\n",
       "      <td>1</td>\n",
       "      <td>1</td>\n",
       "      <td>1</td>\n",
       "      <td>620.0</td>\n",
       "      <td>9.0</td>\n",
       "      <td>0</td>\n",
       "      <td>22.0</td>\n",
       "      <td>7</td>\n",
       "      <td>31</td>\n",
       "      <td>4</td>\n",
       "      <td>31</td>\n",
       "      <td>0</td>\n",
       "      <td>1</td>\n",
       "      <td>2</td>\n",
       "      <td>2</td>\n",
       "    </tr>\n",
       "    <tr>\n",
       "      <th>4</th>\n",
       "      <td>2015-07-31</td>\n",
       "      <td>5</td>\n",
       "      <td>4</td>\n",
       "      <td>4822.0</td>\n",
       "      <td>1</td>\n",
       "      <td>1</td>\n",
       "      <td>1</td>\n",
       "      <td>29910.0</td>\n",
       "      <td>4.0</td>\n",
       "      <td>0</td>\n",
       "      <td>22.0</td>\n",
       "      <td>7</td>\n",
       "      <td>31</td>\n",
       "      <td>4</td>\n",
       "      <td>31</td>\n",
       "      <td>0</td>\n",
       "      <td>1</td>\n",
       "      <td>0</td>\n",
       "      <td>0</td>\n",
       "    </tr>\n",
       "    <tr>\n",
       "      <th>...</th>\n",
       "      <td>...</td>\n",
       "      <td>...</td>\n",
       "      <td>...</td>\n",
       "      <td>...</td>\n",
       "      <td>...</td>\n",
       "      <td>...</td>\n",
       "      <td>...</td>\n",
       "      <td>...</td>\n",
       "      <td>...</td>\n",
       "      <td>...</td>\n",
       "      <td>...</td>\n",
       "      <td>...</td>\n",
       "      <td>...</td>\n",
       "      <td>...</td>\n",
       "      <td>...</td>\n",
       "      <td>...</td>\n",
       "      <td>...</td>\n",
       "      <td>...</td>\n",
       "      <td>...</td>\n",
       "    </tr>\n",
       "    <tr>\n",
       "      <th>712041</th>\n",
       "      <td>2013-10-01</td>\n",
       "      <td>342</td>\n",
       "      <td>1</td>\n",
       "      <td>10182.0</td>\n",
       "      <td>1</td>\n",
       "      <td>0</td>\n",
       "      <td>0</td>\n",
       "      <td>15770.0</td>\n",
       "      <td>8.0</td>\n",
       "      <td>1</td>\n",
       "      <td>40.0</td>\n",
       "      <td>10</td>\n",
       "      <td>1</td>\n",
       "      <td>1</td>\n",
       "      <td>40</td>\n",
       "      <td>0</td>\n",
       "      <td>1</td>\n",
       "      <td>2</td>\n",
       "      <td>3</td>\n",
       "    </tr>\n",
       "    <tr>\n",
       "      <th>712042</th>\n",
       "      <td>2013-10-01</td>\n",
       "      <td>343</td>\n",
       "      <td>1</td>\n",
       "      <td>5352.0</td>\n",
       "      <td>1</td>\n",
       "      <td>0</td>\n",
       "      <td>0</td>\n",
       "      <td>18650.0</td>\n",
       "      <td>4.0</td>\n",
       "      <td>1</td>\n",
       "      <td>14.0</td>\n",
       "      <td>10</td>\n",
       "      <td>1</td>\n",
       "      <td>1</td>\n",
       "      <td>40</td>\n",
       "      <td>0</td>\n",
       "      <td>1</td>\n",
       "      <td>0</td>\n",
       "      <td>3</td>\n",
       "    </tr>\n",
       "    <tr>\n",
       "      <th>712043</th>\n",
       "      <td>2013-10-01</td>\n",
       "      <td>344</td>\n",
       "      <td>1</td>\n",
       "      <td>6652.0</td>\n",
       "      <td>1</td>\n",
       "      <td>0</td>\n",
       "      <td>1</td>\n",
       "      <td>300.0</td>\n",
       "      <td>4.0</td>\n",
       "      <td>1</td>\n",
       "      <td>14.0</td>\n",
       "      <td>10</td>\n",
       "      <td>1</td>\n",
       "      <td>1</td>\n",
       "      <td>40</td>\n",
       "      <td>0</td>\n",
       "      <td>1</td>\n",
       "      <td>2</td>\n",
       "      <td>0</td>\n",
       "    </tr>\n",
       "    <tr>\n",
       "      <th>712044</th>\n",
       "      <td>2013-10-01</td>\n",
       "      <td>345</td>\n",
       "      <td>1</td>\n",
       "      <td>3842.0</td>\n",
       "      <td>1</td>\n",
       "      <td>0</td>\n",
       "      <td>0</td>\n",
       "      <td>120.0</td>\n",
       "      <td>8.0</td>\n",
       "      <td>1</td>\n",
       "      <td>22.0</td>\n",
       "      <td>10</td>\n",
       "      <td>1</td>\n",
       "      <td>1</td>\n",
       "      <td>40</td>\n",
       "      <td>0</td>\n",
       "      <td>1</td>\n",
       "      <td>0</td>\n",
       "      <td>0</td>\n",
       "    </tr>\n",
       "    <tr>\n",
       "      <th>712045</th>\n",
       "      <td>2013-10-01</td>\n",
       "      <td>346</td>\n",
       "      <td>1</td>\n",
       "      <td>6143.0</td>\n",
       "      <td>1</td>\n",
       "      <td>0</td>\n",
       "      <td>0</td>\n",
       "      <td>8090.0</td>\n",
       "      <td>8.0</td>\n",
       "      <td>0</td>\n",
       "      <td>22.0</td>\n",
       "      <td>10</td>\n",
       "      <td>1</td>\n",
       "      <td>1</td>\n",
       "      <td>40</td>\n",
       "      <td>0</td>\n",
       "      <td>1</td>\n",
       "      <td>2</td>\n",
       "      <td>0</td>\n",
       "    </tr>\n",
       "  </tbody>\n",
       "</table>\n",
       "<p>712046 rows × 19 columns</p>\n",
       "</div>"
      ],
      "text/plain": [
       "             Date  Store  DayOfWeek    Sales  Open  Promo  SchoolHoliday  \\\n",
       "0      2015-07-31      1          4   5263.0     1      1              1   \n",
       "1      2015-07-31      2          4   6064.0     1      1              1   \n",
       "2      2015-07-31      3          4   8314.0     1      1              1   \n",
       "3      2015-07-31      4          4  13995.0     1      1              1   \n",
       "4      2015-07-31      5          4   4822.0     1      1              1   \n",
       "...           ...    ...        ...      ...   ...    ...            ...   \n",
       "712041 2013-10-01    342          1  10182.0     1      0              0   \n",
       "712042 2013-10-01    343          1   5352.0     1      0              0   \n",
       "712043 2013-10-01    344          1   6652.0     1      0              1   \n",
       "712044 2013-10-01    345          1   3842.0     1      0              0   \n",
       "712045 2013-10-01    346          1   6143.0     1      0              0   \n",
       "\n",
       "        CompetitionDistance  CompetitionOpenSinceMonth  Promo2  \\\n",
       "0                    1270.0                        9.0       0   \n",
       "1                     570.0                       11.0       1   \n",
       "2                   14130.0                       12.0       1   \n",
       "3                     620.0                        9.0       0   \n",
       "4                   29910.0                        4.0       0   \n",
       "...                     ...                        ...     ...   \n",
       "712041              15770.0                        8.0       1   \n",
       "712042              18650.0                        4.0       1   \n",
       "712043                300.0                        4.0       1   \n",
       "712044                120.0                        8.0       1   \n",
       "712045               8090.0                        8.0       0   \n",
       "\n",
       "        Promo2SinceWeek  Month  Day  weekday  weekofyear  weekend  \\\n",
       "0                  22.0      7   31        4          31        0   \n",
       "1                  13.0      7   31        4          31        0   \n",
       "2                  14.0      7   31        4          31        0   \n",
       "3                  22.0      7   31        4          31        0   \n",
       "4                  22.0      7   31        4          31        0   \n",
       "...                 ...    ...  ...      ...         ...      ...   \n",
       "712041             40.0     10    1        1          40        0   \n",
       "712042             14.0     10    1        1          40        0   \n",
       "712043             14.0     10    1        1          40        0   \n",
       "712044             22.0     10    1        1          40        0   \n",
       "712045             22.0     10    1        1          40        0   \n",
       "\n",
       "        PromoInterval  Assortment  StoreType  \n",
       "0                   1           0          2  \n",
       "1                   1           0          0  \n",
       "2                   1           0          0  \n",
       "3                   1           2          2  \n",
       "4                   1           0          0  \n",
       "...               ...         ...        ...  \n",
       "712041              1           2          3  \n",
       "712042              1           0          3  \n",
       "712043              1           2          0  \n",
       "712044              1           0          0  \n",
       "712045              1           2          0  \n",
       "\n",
       "[712046 rows x 19 columns]"
      ]
     },
     "execution_count": 85,
     "metadata": {},
     "output_type": "execute_result"
    }
   ],
   "source": [
    "train"
   ]
  },
  {
   "cell_type": "code",
   "execution_count": 86,
   "id": "d936f614",
   "metadata": {},
   "outputs": [
    {
     "data": {
      "text/plain": [
       "Date                         datetime64[ns]\n",
       "Store                                 int64\n",
       "DayOfWeek                             int64\n",
       "Sales                               float64\n",
       "Open                                  int64\n",
       "Promo                                 int64\n",
       "SchoolHoliday                         int64\n",
       "CompetitionDistance                 float64\n",
       "CompetitionOpenSinceMonth           float64\n",
       "Promo2                                int64\n",
       "Promo2SinceWeek                     float64\n",
       "Month                                 int64\n",
       "Day                                   int64\n",
       "weekday                               int64\n",
       "weekofyear                            int64\n",
       "weekend                               int64\n",
       "PromoInterval                         int64\n",
       "Assortment                            int64\n",
       "StoreType                             int64\n",
       "dtype: object"
      ]
     },
     "execution_count": 86,
     "metadata": {},
     "output_type": "execute_result"
    }
   ],
   "source": [
    "train.dtypes"
   ]
  },
  {
   "cell_type": "markdown",
   "id": "affc28f0",
   "metadata": {},
   "source": [
    "##### Scale the Data"
   ]
  },
  {
   "cell_type": "code",
   "execution_count": 87,
   "id": "1812353c",
   "metadata": {},
   "outputs": [
    {
     "name": "stderr",
     "output_type": "stream",
     "text": [
      "C:\\Users\\user\\AppData\\Local\\Temp\\ipykernel_12012\\1960744345.py:9: SettingWithCopyWarning: \n",
      "A value is trying to be set on a copy of a slice from a DataFrame.\n",
      "Try using .loc[row_indexer,col_indexer] = value instead\n",
      "\n",
      "See the caveats in the documentation: https://pandas.pydata.org/pandas-docs/stable/user_guide/indexing.html#returning-a-view-versus-a-copy\n",
      "  train[col] = scaler.transform(train[[col]])\n",
      "C:\\Users\\user\\AppData\\Local\\Temp\\ipykernel_12012\\1960744345.py:10: SettingWithCopyWarning: \n",
      "A value is trying to be set on a copy of a slice from a DataFrame.\n",
      "Try using .loc[row_indexer,col_indexer] = value instead\n",
      "\n",
      "See the caveats in the documentation: https://pandas.pydata.org/pandas-docs/stable/user_guide/indexing.html#returning-a-view-versus-a-copy\n",
      "  test[col] = scaler.transform(test[[col]])\n",
      "C:\\Users\\user\\AppData\\Local\\Temp\\ipykernel_12012\\1960744345.py:11: SettingWithCopyWarning: \n",
      "A value is trying to be set on a copy of a slice from a DataFrame.\n",
      "Try using .loc[row_indexer,col_indexer] = value instead\n",
      "\n",
      "See the caveats in the documentation: https://pandas.pydata.org/pandas-docs/stable/user_guide/indexing.html#returning-a-view-versus-a-copy\n",
      "  val[col] = scaler.transform(val[[col]])\n",
      "C:\\Users\\user\\AppData\\Local\\Temp\\ipykernel_12012\\1960744345.py:9: SettingWithCopyWarning: \n",
      "A value is trying to be set on a copy of a slice from a DataFrame.\n",
      "Try using .loc[row_indexer,col_indexer] = value instead\n",
      "\n",
      "See the caveats in the documentation: https://pandas.pydata.org/pandas-docs/stable/user_guide/indexing.html#returning-a-view-versus-a-copy\n",
      "  train[col] = scaler.transform(train[[col]])\n",
      "C:\\Users\\user\\AppData\\Local\\Temp\\ipykernel_12012\\1960744345.py:10: SettingWithCopyWarning: \n",
      "A value is trying to be set on a copy of a slice from a DataFrame.\n",
      "Try using .loc[row_indexer,col_indexer] = value instead\n",
      "\n",
      "See the caveats in the documentation: https://pandas.pydata.org/pandas-docs/stable/user_guide/indexing.html#returning-a-view-versus-a-copy\n",
      "  test[col] = scaler.transform(test[[col]])\n",
      "C:\\Users\\user\\AppData\\Local\\Temp\\ipykernel_12012\\1960744345.py:11: SettingWithCopyWarning: \n",
      "A value is trying to be set on a copy of a slice from a DataFrame.\n",
      "Try using .loc[row_indexer,col_indexer] = value instead\n",
      "\n",
      "See the caveats in the documentation: https://pandas.pydata.org/pandas-docs/stable/user_guide/indexing.html#returning-a-view-versus-a-copy\n",
      "  val[col] = scaler.transform(val[[col]])\n",
      "C:\\Users\\user\\AppData\\Local\\Temp\\ipykernel_12012\\1960744345.py:9: SettingWithCopyWarning: \n",
      "A value is trying to be set on a copy of a slice from a DataFrame.\n",
      "Try using .loc[row_indexer,col_indexer] = value instead\n",
      "\n",
      "See the caveats in the documentation: https://pandas.pydata.org/pandas-docs/stable/user_guide/indexing.html#returning-a-view-versus-a-copy\n",
      "  train[col] = scaler.transform(train[[col]])\n",
      "C:\\Users\\user\\AppData\\Local\\Temp\\ipykernel_12012\\1960744345.py:10: SettingWithCopyWarning: \n",
      "A value is trying to be set on a copy of a slice from a DataFrame.\n",
      "Try using .loc[row_indexer,col_indexer] = value instead\n",
      "\n",
      "See the caveats in the documentation: https://pandas.pydata.org/pandas-docs/stable/user_guide/indexing.html#returning-a-view-versus-a-copy\n",
      "  test[col] = scaler.transform(test[[col]])\n",
      "C:\\Users\\user\\AppData\\Local\\Temp\\ipykernel_12012\\1960744345.py:11: SettingWithCopyWarning: \n",
      "A value is trying to be set on a copy of a slice from a DataFrame.\n",
      "Try using .loc[row_indexer,col_indexer] = value instead\n",
      "\n",
      "See the caveats in the documentation: https://pandas.pydata.org/pandas-docs/stable/user_guide/indexing.html#returning-a-view-versus-a-copy\n",
      "  val[col] = scaler.transform(val[[col]])\n",
      "C:\\Users\\user\\AppData\\Local\\Temp\\ipykernel_12012\\1960744345.py:9: SettingWithCopyWarning: \n",
      "A value is trying to be set on a copy of a slice from a DataFrame.\n",
      "Try using .loc[row_indexer,col_indexer] = value instead\n",
      "\n",
      "See the caveats in the documentation: https://pandas.pydata.org/pandas-docs/stable/user_guide/indexing.html#returning-a-view-versus-a-copy\n",
      "  train[col] = scaler.transform(train[[col]])\n",
      "C:\\Users\\user\\AppData\\Local\\Temp\\ipykernel_12012\\1960744345.py:10: SettingWithCopyWarning: \n",
      "A value is trying to be set on a copy of a slice from a DataFrame.\n",
      "Try using .loc[row_indexer,col_indexer] = value instead\n",
      "\n",
      "See the caveats in the documentation: https://pandas.pydata.org/pandas-docs/stable/user_guide/indexing.html#returning-a-view-versus-a-copy\n",
      "  test[col] = scaler.transform(test[[col]])\n",
      "C:\\Users\\user\\AppData\\Local\\Temp\\ipykernel_12012\\1960744345.py:11: SettingWithCopyWarning: \n",
      "A value is trying to be set on a copy of a slice from a DataFrame.\n",
      "Try using .loc[row_indexer,col_indexer] = value instead\n",
      "\n",
      "See the caveats in the documentation: https://pandas.pydata.org/pandas-docs/stable/user_guide/indexing.html#returning-a-view-versus-a-copy\n",
      "  val[col] = scaler.transform(val[[col]])\n"
     ]
    }
   ],
   "source": [
    "# Skipping this section\n",
    "from sklearn.preprocessing import StandardScaler\n",
    "cols = ['Sales', 'Store', 'CompetitionDistance', 'Promo2SinceWeek']\n",
    "\n",
    "for col in cols:\n",
    "  scaler = StandardScaler()\n",
    "  scaler = scaler.fit(train[[col]])\n",
    "\n",
    "  train[col] = scaler.transform(train[[col]])\n",
    "  test[col] = scaler.transform(test[[col]])\n",
    "  val[col] = scaler.transform(val[[col]])"
   ]
  },
  {
   "cell_type": "code",
   "execution_count": 88,
   "id": "9a9dcc48",
   "metadata": {},
   "outputs": [],
   "source": [
    "TIME_STEPS=30\n",
    "\n",
    "def create_sequences(X, y, time_steps=TIME_STEPS):\n",
    "    Xs, ys = [], []\n",
    "    for i in range(len(X)-time_steps):\n",
    "        Xs.append(X.iloc[i:(i+time_steps)].values)\n",
    "        ys.append(y.iloc[i+time_steps])\n",
    "    \n",
    "    return np.array(Xs), np.array(ys)"
   ]
  },
  {
   "cell_type": "code",
   "execution_count": 89,
   "id": "014a19d9",
   "metadata": {},
   "outputs": [
    {
     "name": "stdout",
     "output_type": "stream",
     "text": [
      "Training shape: (712016, 30, 1)\n",
      "Testing shape: (152551, 30, 1)\n",
      "Testing shape: (152552, 30, 1)\n",
      "Testing shape: (712016,)\n",
      "Testing shape: (152551,)\n",
      "Testing shape: (152552,)\n"
     ]
    }
   ],
   "source": [
    "X_train, y_train = create_sequences(train[['Sales']], train['Sales'])\n",
    "X_test, y_test = create_sequences(test[['Sales']], test['Sales'])\n",
    "X_val, y_val = create_sequences(val[['Sales']], val['Sales'])\n",
    "\n",
    "print(f'Training shape: {X_train.shape}')\n",
    "print(f'Testing shape: {X_test.shape}')\n",
    "print(f'Testing shape: {X_val.shape}')\n",
    "\n",
    "print(f'Testing shape: {y_train.shape}')\n",
    "print(f'Testing shape: {y_test.shape}')\n",
    "print(f'Testing shape: {y_val.shape}')"
   ]
  },
  {
   "cell_type": "code",
   "execution_count": 90,
   "id": "f4a31b3e",
   "metadata": {},
   "outputs": [
    {
     "data": {
      "text/plain": [
       "(712046, 19)"
      ]
     },
     "execution_count": 90,
     "metadata": {},
     "output_type": "execute_result"
    }
   ],
   "source": [
    "train.shape"
   ]
  },
  {
   "cell_type": "code",
   "execution_count": 91,
   "id": "1b6c6af9",
   "metadata": {},
   "outputs": [],
   "source": [
    "train_y = train['Sales']\n",
    "test_y = test['Sales']\n",
    "val_y = val['Sales']\n",
    "\n",
    "train_x = train.drop('Sales', axis=1)\n",
    "test_x = test.drop('Sales', axis=1)\n",
    "val_x = val.drop('Sales', axis=1)"
   ]
  },
  {
   "cell_type": "markdown",
   "id": "f6719935",
   "metadata": {},
   "source": [
    "##### Build an LSTM Autoencoder"
   ]
  },
  {
   "cell_type": "code",
   "execution_count": 92,
   "id": "e91515aa",
   "metadata": {},
   "outputs": [
    {
     "data": {
      "text/plain": [
       "(712046, 19)"
      ]
     },
     "execution_count": 92,
     "metadata": {},
     "output_type": "execute_result"
    }
   ],
   "source": [
    "train.shape"
   ]
  },
  {
   "cell_type": "code",
   "execution_count": 93,
   "id": "6f524d1e",
   "metadata": {},
   "outputs": [
    {
     "data": {
      "text/plain": [
       "(712046, 18)"
      ]
     },
     "execution_count": 93,
     "metadata": {},
     "output_type": "execute_result"
    }
   ],
   "source": [
    "train_x.shape"
   ]
  },
  {
   "cell_type": "code",
   "execution_count": null,
   "id": "6a4a68b7",
   "metadata": {},
   "outputs": [],
   "source": [
    "model = Sequential()\n",
    "model.add(LSTM(128, input_shape=(train_x.shape[1], 1)))\n",
    "model.add(Dropout(rate=0.2))\n",
    "\n",
    "model.add(RepeatVector(train_x.shape[1]))\n",
    "model.add(LSTM(128, return_sequences=True))\n",
    "\n",
    "model.add(Dropout(rate=0.2))\n",
    "model.add(TimeDistributed(Dense(1)))\n",
    "\n",
    "model.compile(optimizer=tf.keras.optimizers.Adam(learning_rate=0.0001, epsilon=1e-08, decay=0.01), loss='mae')\n",
    "model.summary()"
   ]
  },
  {
   "cell_type": "markdown",
   "id": "a420c548",
   "metadata": {},
   "source": [
    "##### Training the Autoencoder"
   ]
  },
  {
   "cell_type": "code",
   "execution_count": 94,
   "id": "be90cdb4",
   "metadata": {},
   "outputs": [
    {
     "data": {
      "text/html": [
       "<div>\n",
       "<style scoped>\n",
       "    .dataframe tbody tr th:only-of-type {\n",
       "        vertical-align: middle;\n",
       "    }\n",
       "\n",
       "    .dataframe tbody tr th {\n",
       "        vertical-align: top;\n",
       "    }\n",
       "\n",
       "    .dataframe thead th {\n",
       "        text-align: right;\n",
       "    }\n",
       "</style>\n",
       "<table border=\"1\" class=\"dataframe\">\n",
       "  <thead>\n",
       "    <tr style=\"text-align: right;\">\n",
       "      <th></th>\n",
       "      <th>Date</th>\n",
       "      <th>Store</th>\n",
       "      <th>DayOfWeek</th>\n",
       "      <th>Open</th>\n",
       "      <th>Promo</th>\n",
       "      <th>SchoolHoliday</th>\n",
       "      <th>CompetitionDistance</th>\n",
       "      <th>CompetitionOpenSinceMonth</th>\n",
       "      <th>Promo2</th>\n",
       "      <th>Promo2SinceWeek</th>\n",
       "      <th>Month</th>\n",
       "      <th>Day</th>\n",
       "      <th>weekday</th>\n",
       "      <th>weekofyear</th>\n",
       "      <th>weekend</th>\n",
       "      <th>PromoInterval</th>\n",
       "      <th>Assortment</th>\n",
       "      <th>StoreType</th>\n",
       "    </tr>\n",
       "  </thead>\n",
       "  <tbody>\n",
       "    <tr>\n",
       "      <th>864627</th>\n",
       "      <td>2013-05-17</td>\n",
       "      <td>-1.197110</td>\n",
       "      <td>4</td>\n",
       "      <td>1</td>\n",
       "      <td>1</td>\n",
       "      <td>0</td>\n",
       "      <td>-0.657508</td>\n",
       "      <td>12.0</td>\n",
       "      <td>0</td>\n",
       "      <td>-0.056125</td>\n",
       "      <td>5</td>\n",
       "      <td>17</td>\n",
       "      <td>4</td>\n",
       "      <td>20</td>\n",
       "      <td>0</td>\n",
       "      <td>1</td>\n",
       "      <td>0</td>\n",
       "      <td>0</td>\n",
       "    </tr>\n",
       "    <tr>\n",
       "      <th>864628</th>\n",
       "      <td>2013-05-17</td>\n",
       "      <td>-1.194004</td>\n",
       "      <td>4</td>\n",
       "      <td>1</td>\n",
       "      <td>1</td>\n",
       "      <td>0</td>\n",
       "      <td>0.990460</td>\n",
       "      <td>8.0</td>\n",
       "      <td>1</td>\n",
       "      <td>-0.056125</td>\n",
       "      <td>5</td>\n",
       "      <td>17</td>\n",
       "      <td>4</td>\n",
       "      <td>20</td>\n",
       "      <td>0</td>\n",
       "      <td>1</td>\n",
       "      <td>0</td>\n",
       "      <td>0</td>\n",
       "    </tr>\n",
       "    <tr>\n",
       "      <th>864629</th>\n",
       "      <td>2013-05-17</td>\n",
       "      <td>-1.190898</td>\n",
       "      <td>4</td>\n",
       "      <td>1</td>\n",
       "      <td>1</td>\n",
       "      <td>0</td>\n",
       "      <td>-0.168550</td>\n",
       "      <td>8.0</td>\n",
       "      <td>0</td>\n",
       "      <td>-0.056125</td>\n",
       "      <td>5</td>\n",
       "      <td>17</td>\n",
       "      <td>4</td>\n",
       "      <td>20</td>\n",
       "      <td>0</td>\n",
       "      <td>1</td>\n",
       "      <td>0</td>\n",
       "      <td>2</td>\n",
       "    </tr>\n",
       "    <tr>\n",
       "      <th>864630</th>\n",
       "      <td>2013-05-17</td>\n",
       "      <td>-1.187792</td>\n",
       "      <td>4</td>\n",
       "      <td>1</td>\n",
       "      <td>1</td>\n",
       "      <td>0</td>\n",
       "      <td>-0.215118</td>\n",
       "      <td>8.0</td>\n",
       "      <td>0</td>\n",
       "      <td>-0.056125</td>\n",
       "      <td>5</td>\n",
       "      <td>17</td>\n",
       "      <td>4</td>\n",
       "      <td>20</td>\n",
       "      <td>0</td>\n",
       "      <td>1</td>\n",
       "      <td>0</td>\n",
       "      <td>0</td>\n",
       "    </tr>\n",
       "    <tr>\n",
       "      <th>864631</th>\n",
       "      <td>2013-05-17</td>\n",
       "      <td>-1.184686</td>\n",
       "      <td>4</td>\n",
       "      <td>1</td>\n",
       "      <td>1</td>\n",
       "      <td>1</td>\n",
       "      <td>-0.541089</td>\n",
       "      <td>2.0</td>\n",
       "      <td>1</td>\n",
       "      <td>-1.768577</td>\n",
       "      <td>5</td>\n",
       "      <td>17</td>\n",
       "      <td>4</td>\n",
       "      <td>20</td>\n",
       "      <td>0</td>\n",
       "      <td>0</td>\n",
       "      <td>0</td>\n",
       "      <td>0</td>\n",
       "    </tr>\n",
       "  </tbody>\n",
       "</table>\n",
       "</div>"
      ],
      "text/plain": [
       "             Date     Store  DayOfWeek  Open  Promo  SchoolHoliday  \\\n",
       "864627 2013-05-17 -1.197110          4     1      1              0   \n",
       "864628 2013-05-17 -1.194004          4     1      1              0   \n",
       "864629 2013-05-17 -1.190898          4     1      1              0   \n",
       "864630 2013-05-17 -1.187792          4     1      1              0   \n",
       "864631 2013-05-17 -1.184686          4     1      1              1   \n",
       "\n",
       "        CompetitionDistance  CompetitionOpenSinceMonth  Promo2  \\\n",
       "864627            -0.657508                       12.0       0   \n",
       "864628             0.990460                        8.0       1   \n",
       "864629            -0.168550                        8.0       0   \n",
       "864630            -0.215118                        8.0       0   \n",
       "864631            -0.541089                        2.0       1   \n",
       "\n",
       "        Promo2SinceWeek  Month  Day  weekday  weekofyear  weekend  \\\n",
       "864627        -0.056125      5   17        4          20        0   \n",
       "864628        -0.056125      5   17        4          20        0   \n",
       "864629        -0.056125      5   17        4          20        0   \n",
       "864630        -0.056125      5   17        4          20        0   \n",
       "864631        -1.768577      5   17        4          20        0   \n",
       "\n",
       "        PromoInterval  Assortment  StoreType  \n",
       "864627              1           0          0  \n",
       "864628              1           0          0  \n",
       "864629              1           0          2  \n",
       "864630              1           0          0  \n",
       "864631              0           0          0  "
      ]
     },
     "execution_count": 94,
     "metadata": {},
     "output_type": "execute_result"
    }
   ],
   "source": [
    "val_x.head()"
   ]
  },
  {
   "cell_type": "code",
   "execution_count": 95,
   "id": "b1a7a6e6",
   "metadata": {},
   "outputs": [
    {
     "ename": "TypeError",
     "evalue": "float() argument must be a string or a number, not 'Timestamp'",
     "output_type": "error",
     "traceback": [
      "\u001b[1;31m---------------------------------------------------------------------------\u001b[0m",
      "\u001b[1;31mTypeError\u001b[0m                                 Traceback (most recent call last)",
      "Input \u001b[1;32mIn [95]\u001b[0m, in \u001b[0;36m<cell line: 1>\u001b[1;34m()\u001b[0m\n\u001b[1;32m----> 1\u001b[0m train_x \u001b[38;5;241m=\u001b[39m \u001b[43mnp\u001b[49m\u001b[38;5;241;43m.\u001b[39;49m\u001b[43masarray\u001b[49m\u001b[43m(\u001b[49m\u001b[43mtrain_x\u001b[49m\u001b[43m)\u001b[49m\u001b[38;5;241;43m.\u001b[39;49m\u001b[43mastype\u001b[49m\u001b[43m(\u001b[49m\u001b[43mnp\u001b[49m\u001b[38;5;241;43m.\u001b[39;49m\u001b[43mfloat32\u001b[49m\u001b[43m)\u001b[49m\n\u001b[0;32m      2\u001b[0m train_y \u001b[38;5;241m=\u001b[39m np\u001b[38;5;241m.\u001b[39masarray(train_y)\u001b[38;5;241m.\u001b[39mastype(np\u001b[38;5;241m.\u001b[39mfloat32)\n\u001b[0;32m      3\u001b[0m val_x \u001b[38;5;241m=\u001b[39m np\u001b[38;5;241m.\u001b[39masarray(val_x)\u001b[38;5;241m.\u001b[39mastype(np\u001b[38;5;241m.\u001b[39mfloat32)\n",
      "\u001b[1;31mTypeError\u001b[0m: float() argument must be a string or a number, not 'Timestamp'"
     ]
    }
   ],
   "source": [
    "train_x = np.asarray(train_x).astype(np.float32)\n",
    "train_y = np.asarray(train_y).astype(np.float32)\n",
    "val_x = np.asarray(val_x).astype(np.float32)\n",
    "val_y = np.asarray(val_y).astype(np.float32)"
   ]
  },
  {
   "cell_type": "code",
   "execution_count": null,
   "id": "7586bdb8",
   "metadata": {},
   "outputs": [],
   "source": [
    "history = model.fit(train_x, train_y, epochs=100, batch_size=32, validation_data=(val_x, val_y),\n",
    "                    callbacks=[keras.callbacks.EarlyStopping(monitor='val_loss', patience=3, mode='min')], shuffle=False)"
   ]
  },
  {
   "cell_type": "markdown",
   "id": "202a133b",
   "metadata": {},
   "source": [
    "##### Training/Test/Validation Split"
   ]
  },
  {
   "cell_type": "code",
   "execution_count": 96,
   "id": "8cfc5161",
   "metadata": {},
   "outputs": [
    {
     "name": "stdout",
     "output_type": "stream",
     "text": [
      "(712046, 19) (305163, 19)\n"
     ]
    }
   ],
   "source": [
    "train_size = int(len(df) * 0.70)\n",
    "test_size = len(df) - train_size\n",
    "train, testt = df.iloc[0:train_size], df.iloc[train_size:len(df)]\n",
    "print(train.shape, testt.shape)"
   ]
  },
  {
   "cell_type": "code",
   "execution_count": 97,
   "id": "282835b9",
   "metadata": {},
   "outputs": [
    {
     "name": "stdout",
     "output_type": "stream",
     "text": [
      "(152582, 19) (152581, 19)\n"
     ]
    }
   ],
   "source": [
    "test_size = int(len(testt) * 0.50)\n",
    "val_size = len(testt) - test_size\n",
    "test, val = testt.iloc[0:test_size], testt.iloc[test_size:len(testt)]\n",
    "print(val.shape, test.shape)"
   ]
  },
  {
   "cell_type": "markdown",
   "id": "ae55c1ee",
   "metadata": {},
   "source": [
    "##### Scale the Data"
   ]
  },
  {
   "cell_type": "code",
   "execution_count": 98,
   "id": "9cb2db95",
   "metadata": {},
   "outputs": [
    {
     "name": "stderr",
     "output_type": "stream",
     "text": [
      "C:\\Users\\user\\AppData\\Local\\Temp\\ipykernel_12012\\2572294743.py:6: SettingWithCopyWarning: \n",
      "A value is trying to be set on a copy of a slice from a DataFrame.\n",
      "Try using .loc[row_indexer,col_indexer] = value instead\n",
      "\n",
      "See the caveats in the documentation: https://pandas.pydata.org/pandas-docs/stable/user_guide/indexing.html#returning-a-view-versus-a-copy\n",
      "  train['Close'] = scaler.transform(train[['Sales']])\n",
      "C:\\Users\\user\\AppData\\Local\\Temp\\ipykernel_12012\\2572294743.py:7: SettingWithCopyWarning: \n",
      "A value is trying to be set on a copy of a slice from a DataFrame.\n",
      "Try using .loc[row_indexer,col_indexer] = value instead\n",
      "\n",
      "See the caveats in the documentation: https://pandas.pydata.org/pandas-docs/stable/user_guide/indexing.html#returning-a-view-versus-a-copy\n",
      "  test['Close'] = scaler.transform(test[['Sales']])\n",
      "C:\\Users\\user\\AppData\\Local\\Temp\\ipykernel_12012\\2572294743.py:8: SettingWithCopyWarning: \n",
      "A value is trying to be set on a copy of a slice from a DataFrame.\n",
      "Try using .loc[row_indexer,col_indexer] = value instead\n",
      "\n",
      "See the caveats in the documentation: https://pandas.pydata.org/pandas-docs/stable/user_guide/indexing.html#returning-a-view-versus-a-copy\n",
      "  val['Close'] = scaler.transform(val[['Sales']])\n"
     ]
    }
   ],
   "source": [
    "from sklearn.preprocessing import StandardScaler\n",
    "\n",
    "scaler = StandardScaler()\n",
    "scaler = scaler.fit(train[['Sales']])\n",
    "\n",
    "train['Close'] = scaler.transform(train[['Sales']])\n",
    "test['Close'] = scaler.transform(test[['Sales']])\n",
    "val['Close'] = scaler.transform(val[['Sales']])"
   ]
  },
  {
   "cell_type": "code",
   "execution_count": 99,
   "id": "48f92133",
   "metadata": {},
   "outputs": [],
   "source": [
    "TIME_STEPS=30\n",
    "\n",
    "def create_sequences(X, y, time_steps=TIME_STEPS):\n",
    "    Xs, ys = [], []\n",
    "    for i in range(len(X)-time_steps):\n",
    "        Xs.append(X.iloc[i:(i+time_steps)].values)\n",
    "        ys.append(y.iloc[i+time_steps])\n",
    "    \n",
    "    return np.array(Xs), np.array(ys)"
   ]
  },
  {
   "cell_type": "code",
   "execution_count": 100,
   "id": "35405ab1",
   "metadata": {},
   "outputs": [
    {
     "name": "stdout",
     "output_type": "stream",
     "text": [
      "Training shape: (712016, 30, 1)\n",
      "Testing shape: (152551, 30, 1)\n",
      "Testing shape: (152552, 30, 1)\n",
      "Testing shape: (712016,)\n",
      "Testing shape: (152551,)\n",
      "Testing shape: (152552,)\n"
     ]
    }
   ],
   "source": [
    "X_train, y_train = create_sequences(train[['Sales']], train['Sales'])\n",
    "X_test, y_test = create_sequences(test[['Sales']], test['Sales'])\n",
    "X_val, y_val = create_sequences(val[['Sales']], val['Sales'])\n",
    "\n",
    "print(f'Training shape: {X_train.shape}')\n",
    "print(f'Testing shape: {X_test.shape}')\n",
    "print(f'Testing shape: {X_val.shape}')\n",
    "\n",
    "print(f'Testing shape: {y_train.shape}')\n",
    "print(f'Testing shape: {y_test.shape}')\n",
    "print(f'Testing shape: {y_val.shape}')"
   ]
  },
  {
   "cell_type": "markdown",
   "id": "ebfa9981",
   "metadata": {},
   "source": [
    "##### Build an LSTM Autoencode"
   ]
  },
  {
   "cell_type": "code",
   "execution_count": 101,
   "id": "077497e5",
   "metadata": {},
   "outputs": [
    {
     "data": {
      "text/plain": [
       "(712016,)"
      ]
     },
     "execution_count": 101,
     "metadata": {},
     "output_type": "execute_result"
    }
   ],
   "source": [
    "y_train.shape"
   ]
  },
  {
   "cell_type": "code",
   "execution_count": null,
   "id": "9138c83e",
   "metadata": {},
   "outputs": [],
   "source": [
    "model = Sequential()\n",
    "model.add(LSTM(128, input_shape=(X_train.shape[1], X_train.shape[2])))\n",
    "model.add(Dropout(rate=0.2))\n",
    "\n",
    "model.add(RepeatVector(X_train.shape[1]))\n",
    "model.add(LSTM(128, return_sequences=True))\n",
    "\n",
    "model.add(Dropout(rate=0.2))\n",
    "model.add(TimeDistributed(Dense(X_train.shape[2])))\n",
    "\n",
    "model.compile(optimizer=tf.keras.optimizers.Adam(learning_rate=0.0001, epsilon=1e-08, decay=0.01), loss='mae')\n",
    "model.summary()"
   ]
  },
  {
   "cell_type": "code",
   "execution_count": null,
   "id": "3c8732dd",
   "metadata": {},
   "outputs": [],
   "source": [
    "history = model.fit(X_train, y_train, epochs=100, batch_size=32, validation_split=0.15,\n",
    "                    callbacks=[keras.callbacks.EarlyStopping(monitor='val_loss', patience=3, mode='min')], shuffle=False)"
   ]
  }
 ],
 "metadata": {
  "kernelspec": {
   "display_name": "Python 3 (ipykernel)",
   "language": "python",
   "name": "python3"
  },
  "language_info": {
   "codemirror_mode": {
    "name": "ipython",
    "version": 3
   },
   "file_extension": ".py",
   "mimetype": "text/x-python",
   "name": "python",
   "nbconvert_exporter": "python",
   "pygments_lexer": "ipython3",
   "version": "3.9.12"
  }
 },
 "nbformat": 4,
 "nbformat_minor": 5
}
