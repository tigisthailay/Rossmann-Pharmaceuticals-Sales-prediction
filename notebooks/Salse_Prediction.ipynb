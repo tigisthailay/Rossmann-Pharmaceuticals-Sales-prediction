{
 "cells": [
  {
   "cell_type": "markdown",
   "id": "94f3e91e",
   "metadata": {},
   "source": [
    "## Prediction of Sales"
   ]
  },
  {
   "cell_type": "markdown",
   "id": "8a17e2a2",
   "metadata": {},
   "source": [
    "#### Import Important Framework"
   ]
  },
  {
   "cell_type": "code",
   "execution_count": 1,
   "id": "371f3405",
   "metadata": {},
   "outputs": [],
   "source": [
    "import os\n",
    "import warnings\n",
    "import sys\n",
    "from datetime import datetime\n",
    "\n",
    "import dvc.api\n",
    "import pandas as pd\n",
    "import numpy as np\n",
    "from sklearn.metrics import mean_squared_error, mean_absolute_error, r2_score\n",
    "from sklearn.model_selection import train_test_split\n",
    "from sklearn.linear_model import ElasticNet, LogisticRegression, LinearRegression\n",
    "from sklearn.tree import DecisionTreeRegressor\n",
    "from sklearn.preprocessing import LabelEncoder\n",
    "from sklearn.preprocessing import MinMaxScaler\n",
    "from fast_ml.model_development import train_valid_test_split\n",
    "from sklearn.tree import DecisionTreeClassifier\n",
    "from urllib.parse import urlparse\n",
    "import mlflow\n",
    "import mlflow.sklearn\n",
    "from sklearn.preprocessing import StandardScaler, OrdinalEncoder\n",
    "from sklearn.impute import SimpleImputer\n",
    "from sklearn.compose import ColumnTransformer\n",
    "from sklearn.pipeline import Pipeline\n",
    "from sklearn.ensemble import RandomForestRegressor\n",
    "import pickle"
   ]
  },
  {
   "cell_type": "markdown",
   "id": "7970d4d0",
   "metadata": {},
   "source": [
    "##### Import modules"
   ]
  },
  {
   "cell_type": "code",
   "execution_count": 2,
   "id": "b61fe8d9",
   "metadata": {},
   "outputs": [],
   "source": [
    "sys.path.append(os.path.abspath(os.path.join('../Scripts')))\n",
    "from plotting import Plotting\n",
    "from preprocessing import Preprocess\n",
    "from file import Myfile"
   ]
  },
  {
   "cell_type": "markdown",
   "id": "84a868d6",
   "metadata": {},
   "source": [
    "Instantiate modules"
   ]
  },
  {
   "cell_type": "code",
   "execution_count": 110,
   "id": "daadd41c",
   "metadata": {},
   "outputs": [],
   "source": [
    "preprocess = Preprocess()\n",
    "plot = Plotting()\n",
    "file = Myfile()"
   ]
  },
  {
   "cell_type": "markdown",
   "id": "e18107ff",
   "metadata": {},
   "source": [
    "Load data from dvc"
   ]
  },
  {
   "cell_type": "code",
   "execution_count": 111,
   "id": "c36e0140",
   "metadata": {},
   "outputs": [
    {
     "name": "stderr",
     "output_type": "stream",
     "text": [
      "C:\\Users\\user\\Desktop\\10Academy\\Rossmann-Pharmaceuticals-Sales-prediction\\Scripts\\file.py:11: DtypeWarning: Columns (7) have mixed types. Specify dtype option on import or set low_memory=False.\n",
      "  df = pd.read_csv(path)\n"
     ]
    },
    {
     "name": "stdout",
     "output_type": "stream",
     "text": [
      "--> file read as csv\n"
     ]
    }
   ],
   "source": [
    "df = file.read_csv('../data/train_processed.csv')"
   ]
  },
  {
   "cell_type": "code",
   "execution_count": 113,
   "id": "850b2c7a",
   "metadata": {},
   "outputs": [
    {
     "name": "stdout",
     "output_type": "stream",
     "text": [
      "<class 'pandas.core.frame.DataFrame'>\n",
      "RangeIndex: 1017209 entries, 0 to 1017208\n",
      "Data columns (total 24 columns):\n",
      " #   Column                     Non-Null Count    Dtype  \n",
      "---  ------                     --------------    -----  \n",
      " 0   Unnamed: 0                 1017209 non-null  int64  \n",
      " 1   Date                       1017209 non-null  object \n",
      " 2   Store                      1017209 non-null  int64  \n",
      " 3   DayOfWeek                  1017209 non-null  int64  \n",
      " 4   Sales                      1017209 non-null  float64\n",
      " 5   Open                       1017209 non-null  int64  \n",
      " 6   Promo                      1017209 non-null  int64  \n",
      " 7   StateHoliday               1017209 non-null  object \n",
      " 8   SchoolHoliday              1017209 non-null  int64  \n",
      " 9   CompetitionDistance        1017209 non-null  float64\n",
      " 10  CompetitionOpenSinceMonth  1017209 non-null  float64\n",
      " 11  CompetitionOpenSinceYear   1017209 non-null  float64\n",
      " 12  Promo2                     1017209 non-null  int64  \n",
      " 13  Promo2SinceWeek            1017209 non-null  float64\n",
      " 14  Promo2SinceYear            1017209 non-null  float64\n",
      " 15  Year                       1017209 non-null  int64  \n",
      " 16  Month                      1017209 non-null  int64  \n",
      " 17  Day                        1017209 non-null  int64  \n",
      " 18  weekday                    1017209 non-null  int64  \n",
      " 19  weekofyear                 1017209 non-null  int64  \n",
      " 20  weekend                    1017209 non-null  int64  \n",
      " 21  PromoInterval              1017209 non-null  int64  \n",
      " 22  Assortment                 1017209 non-null  int64  \n",
      " 23  StoreType                  1017209 non-null  int64  \n",
      "dtypes: float64(6), int64(16), object(2)\n",
      "memory usage: 186.3+ MB\n"
     ]
    }
   ],
   "source": [
    "df.info()"
   ]
  },
  {
   "cell_type": "code",
   "execution_count": 114,
   "id": "7c85b216",
   "metadata": {},
   "outputs": [],
   "source": [
    "df.drop(['StateHoliday'], axis=1, inplace=True)"
   ]
  },
  {
   "cell_type": "code",
   "execution_count": 115,
   "id": "7403c09f",
   "metadata": {},
   "outputs": [],
   "source": [
    "# Drop rows that are closed (close=0) & sales=0\n",
    "df = df[df['Open'] == 1]\n",
    "df = df[df['Sales'] > 0.0]"
   ]
  },
  {
   "cell_type": "code",
   "execution_count": 117,
   "id": "12e081f9",
   "metadata": {},
   "outputs": [],
   "source": [
    "## Lable Date and StateHoiday Train\n",
    "columns = ['Sales','Store', 'DayOfWeek', 'Open', 'Promo', 'CompetitionDistance',  'SchoolHoliday', 'Day', 'weekofyear','Month', 'Year', 'StoreType',\n",
    "              'Assortment', 'Promo2']\n",
    "\n",
    "feature = ['Store', 'DayOfWeek', 'Open', 'Promo', 'CompetitionDistance', 'SchoolHoliday', 'Day', 'weekofyear','Month', 'Year', 'StoreType',\n",
    "              'Assortment', 'Promo2']\n",
    "\n",
    "sample_size = 1000\n",
    "sampled_df = df[columns].sample(sample_size)"
   ]
  },
  {
   "cell_type": "code",
   "execution_count": 118,
   "id": "eaeb8ec8",
   "metadata": {},
   "outputs": [
    {
     "data": {
      "text/html": [
       "<div>\n",
       "<style scoped>\n",
       "    .dataframe tbody tr th:only-of-type {\n",
       "        vertical-align: middle;\n",
       "    }\n",
       "\n",
       "    .dataframe tbody tr th {\n",
       "        vertical-align: top;\n",
       "    }\n",
       "\n",
       "    .dataframe thead th {\n",
       "        text-align: right;\n",
       "    }\n",
       "</style>\n",
       "<table border=\"1\" class=\"dataframe\">\n",
       "  <thead>\n",
       "    <tr style=\"text-align: right;\">\n",
       "      <th></th>\n",
       "      <th>Store</th>\n",
       "      <th>DayOfWeek</th>\n",
       "      <th>Open</th>\n",
       "      <th>Promo</th>\n",
       "      <th>CompetitionDistance</th>\n",
       "      <th>SchoolHoliday</th>\n",
       "      <th>Day</th>\n",
       "      <th>weekofyear</th>\n",
       "      <th>Month</th>\n",
       "      <th>Year</th>\n",
       "      <th>StoreType</th>\n",
       "      <th>Assortment</th>\n",
       "      <th>Promo2</th>\n",
       "    </tr>\n",
       "  </thead>\n",
       "  <tbody>\n",
       "    <tr>\n",
       "      <th>567105</th>\n",
       "      <td>356</td>\n",
       "      <td>5</td>\n",
       "      <td>1</td>\n",
       "      <td>0</td>\n",
       "      <td>8970.0</td>\n",
       "      <td>0</td>\n",
       "      <td>8</td>\n",
       "      <td>6</td>\n",
       "      <td>2</td>\n",
       "      <td>2014</td>\n",
       "      <td>3</td>\n",
       "      <td>2</td>\n",
       "      <td>1</td>\n",
       "    </tr>\n",
       "    <tr>\n",
       "      <th>156277</th>\n",
       "      <td>178</td>\n",
       "      <td>4</td>\n",
       "      <td>1</td>\n",
       "      <td>0</td>\n",
       "      <td>1710.0</td>\n",
       "      <td>0</td>\n",
       "      <td>13</td>\n",
       "      <td>11</td>\n",
       "      <td>3</td>\n",
       "      <td>2015</td>\n",
       "      <td>3</td>\n",
       "      <td>0</td>\n",
       "      <td>0</td>\n",
       "    </tr>\n",
       "    <tr>\n",
       "      <th>978028</th>\n",
       "      <td>959</td>\n",
       "      <td>1</td>\n",
       "      <td>1</td>\n",
       "      <td>1</td>\n",
       "      <td>1060.0</td>\n",
       "      <td>1</td>\n",
       "      <td>5</td>\n",
       "      <td>6</td>\n",
       "      <td>2</td>\n",
       "      <td>2013</td>\n",
       "      <td>0</td>\n",
       "      <td>2</td>\n",
       "      <td>0</td>\n",
       "    </tr>\n",
       "    <tr>\n",
       "      <th>211716</th>\n",
       "      <td>982</td>\n",
       "      <td>4</td>\n",
       "      <td>1</td>\n",
       "      <td>0</td>\n",
       "      <td>21930.0</td>\n",
       "      <td>0</td>\n",
       "      <td>23</td>\n",
       "      <td>4</td>\n",
       "      <td>1</td>\n",
       "      <td>2015</td>\n",
       "      <td>3</td>\n",
       "      <td>0</td>\n",
       "      <td>0</td>\n",
       "    </tr>\n",
       "    <tr>\n",
       "      <th>986096</th>\n",
       "      <td>107</td>\n",
       "      <td>0</td>\n",
       "      <td>1</td>\n",
       "      <td>0</td>\n",
       "      <td>1930.0</td>\n",
       "      <td>0</td>\n",
       "      <td>28</td>\n",
       "      <td>5</td>\n",
       "      <td>1</td>\n",
       "      <td>2013</td>\n",
       "      <td>0</td>\n",
       "      <td>0</td>\n",
       "      <td>0</td>\n",
       "    </tr>\n",
       "  </tbody>\n",
       "</table>\n",
       "</div>"
      ],
      "text/plain": [
       "        Store  DayOfWeek  Open  Promo  CompetitionDistance  SchoolHoliday  \\\n",
       "567105    356          5     1      0               8970.0              0   \n",
       "156277    178          4     1      0               1710.0              0   \n",
       "978028    959          1     1      1               1060.0              1   \n",
       "211716    982          4     1      0              21930.0              0   \n",
       "986096    107          0     1      0               1930.0              0   \n",
       "\n",
       "        Day  weekofyear  Month  Year  StoreType  Assortment  Promo2  \n",
       "567105    8           6      2  2014          3           2       1  \n",
       "156277   13          11      3  2015          3           0       0  \n",
       "978028    5           6      2  2013          0           2       0  \n",
       "211716   23           4      1  2015          3           0       0  \n",
       "986096   28           5      1  2013          0           0       0  "
      ]
     },
     "execution_count": 118,
     "metadata": {},
     "output_type": "execute_result"
    }
   ],
   "source": [
    "## Separet Test and train files\n",
    "train_x = sampled_df[feature]\n",
    "train_y = sampled_df[['Sales']]\n",
    "train_x.head()"
   ]
  },
  {
   "cell_type": "markdown",
   "id": "b8e0bff6",
   "metadata": {},
   "source": [
    "#### Label Encoding"
   ]
  },
  {
   "cell_type": "code",
   "execution_count": 119,
   "id": "ac798348",
   "metadata": {},
   "outputs": [
    {
     "name": "stderr",
     "output_type": "stream",
     "text": [
      "C:\\Users\\user\\AppData\\Local\\Temp\\ipykernel_7848\\3609816834.py:3: SettingWithCopyWarning: \n",
      "A value is trying to be set on a copy of a slice from a DataFrame.\n",
      "Try using .loc[row_indexer,col_indexer] = value instead\n",
      "\n",
      "See the caveats in the documentation: https://pandas.pydata.org/pandas-docs/stable/user_guide/indexing.html#returning-a-view-versus-a-copy\n",
      "  train_x['StoreType'] = lb.fit_transform(train_x['StoreType'])\n",
      "C:\\Users\\user\\AppData\\Local\\Temp\\ipykernel_7848\\3609816834.py:4: SettingWithCopyWarning: \n",
      "A value is trying to be set on a copy of a slice from a DataFrame.\n",
      "Try using .loc[row_indexer,col_indexer] = value instead\n",
      "\n",
      "See the caveats in the documentation: https://pandas.pydata.org/pandas-docs/stable/user_guide/indexing.html#returning-a-view-versus-a-copy\n",
      "  train_x['Assortment'] = lb.fit_transform(train_x['Assortment'])\n"
     ]
    },
    {
     "name": "stdout",
     "output_type": "stream",
     "text": [
      "<class 'pandas.core.frame.DataFrame'>\n",
      "Int64Index: 1000 entries, 567105 to 781612\n",
      "Data columns (total 13 columns):\n",
      " #   Column               Non-Null Count  Dtype  \n",
      "---  ------               --------------  -----  \n",
      " 0   Store                1000 non-null   int64  \n",
      " 1   DayOfWeek            1000 non-null   int64  \n",
      " 2   Open                 1000 non-null   int64  \n",
      " 3   Promo                1000 non-null   int64  \n",
      " 4   CompetitionDistance  1000 non-null   float64\n",
      " 5   SchoolHoliday        1000 non-null   int64  \n",
      " 6   Day                  1000 non-null   int64  \n",
      " 7   weekofyear           1000 non-null   int64  \n",
      " 8   Month                1000 non-null   int64  \n",
      " 9   Year                 1000 non-null   int64  \n",
      " 10  StoreType            1000 non-null   int64  \n",
      " 11  Assortment           1000 non-null   int64  \n",
      " 12  Promo2               1000 non-null   int64  \n",
      "dtypes: float64(1), int64(12)\n",
      "memory usage: 109.4 KB\n"
     ]
    }
   ],
   "source": [
    "### Label encoding\n",
    "lb = LabelEncoder()\n",
    "train_x['StoreType'] = lb.fit_transform(train_x['StoreType'])\n",
    "train_x['Assortment'] = lb.fit_transform(train_x['Assortment'])\n",
    "\n",
    "train_x.info()"
   ]
  },
  {
   "cell_type": "markdown",
   "id": "2d323aa0",
   "metadata": {},
   "source": [
    "#### Scale data"
   ]
  },
  {
   "cell_type": "code",
   "execution_count": 121,
   "id": "e49022df",
   "metadata": {},
   "outputs": [],
   "source": [
    "x_scaler = MinMaxScaler()\n",
    "y_scaler = MinMaxScaler()\n",
    "\n",
    "X = train_x\n",
    "Y = y_scaler.fit_transform(train_y)"
   ]
  },
  {
   "cell_type": "code",
   "execution_count": 122,
   "id": "731d071c",
   "metadata": {},
   "outputs": [],
   "source": [
    "X_train, X_test, y_train, y_test = train_test_split(X, Y, test_size=0.2)"
   ]
  },
  {
   "cell_type": "code",
   "execution_count": 123,
   "id": "fef0a954",
   "metadata": {},
   "outputs": [
    {
     "name": "stderr",
     "output_type": "stream",
     "text": [
      "C:\\Users\\user\\AppData\\Local\\Temp\\ipykernel_7848\\193663102.py:2: DataConversionWarning: A column-vector y was passed when a 1d array was expected. Please change the shape of y to (n_samples,), for example using ravel().\n",
      "  randomferest_reg.fit(X_train, y_train)\n"
     ]
    },
    {
     "data": {
      "text/plain": [
       "RandomForestRegressor(max_depth=25, random_state=0)"
      ]
     },
     "execution_count": 123,
     "metadata": {},
     "output_type": "execute_result"
    }
   ],
   "source": [
    "randomferest_reg = RandomForestRegressor(n_estimators = 100, max_depth=25, random_state=0)\n",
    "randomferest_reg.fit(X_train, y_train)"
   ]
  },
  {
   "cell_type": "code",
   "execution_count": 125,
   "id": "e6057dc2",
   "metadata": {},
   "outputs": [
    {
     "name": "stdout",
     "output_type": "stream",
     "text": [
      "Prediction Score of the Model is 22.29%\n"
     ]
    }
   ],
   "source": [
    "score = randomferest_reg.score(X_test, y_test)\n",
    "print(f\"Prediction Score of the Model is {round(score * 100, 2)}%\")"
   ]
  },
  {
   "cell_type": "code",
   "execution_count": 126,
   "id": "67ca7949",
   "metadata": {},
   "outputs": [],
   "source": [
    "def train_model(X, Y, model_type='LinearRegression'):\n",
    "    model = LinearRegression()\n",
    "    \n",
    "    if(model_type == 'RandomForest'):\n",
    "        model = RandomForestRegressor(n_estimators = 100, max_depth=5, random_state=0)\n",
    "    \n",
    "        \n",
    "    kf = KFold(n_splits=5)\n",
    "    for train_index, test_index in kf.split(X):\n",
    "        with mlflow.start_run(run_name=model_type, nested = True):\n",
    "            X_train, X_test = X[train_index], X[test_index]\n",
    "            y_train, y_test = Y[train_index], Y[test_index]\n",
    "\n",
    "            model.fit(X_train, y_train)\n",
    "            score = model.score(X_test, y_test)\n",
    "            print(f\"Prediction Score of {model_type} : {round(score * 100, 2)}%\")\n",
    "            \n",
    "            if(model_type == 'LinearRegression'):\n",
    "                mlflow.log_param('LR-Score', score)\n",
    "                \n",
    "            if(model_type == 'RandomForest'):\n",
    "                mlflow.log_param('RF-Score', score)\n",
    "                \n",
    "            mlflow.sklearn.log_model(model, model_type +' Model')\n",
    "            mlflow.end_run()\n",
    "            \n",
    "    print()"
   ]
  },
  {
   "cell_type": "markdown",
   "id": "d1d9c55d",
   "metadata": {},
   "source": [
    "#### Building models with sklearn pipelines"
   ]
  },
  {
   "cell_type": "code",
   "execution_count": 127,
   "id": "6aae70f6",
   "metadata": {},
   "outputs": [],
   "source": [
    "## Prepare the training and test features\n",
    "x = train_x\n",
    "y = train_y\n",
    "\n",
    "X_train, X_test, y_train, y_test = train_test_split(x, y,test_size=0.2)"
   ]
  },
  {
   "cell_type": "code",
   "execution_count": 128,
   "id": "62b33402",
   "metadata": {},
   "outputs": [],
   "source": [
    "### Pipe Lines ###\n",
    "\n",
    "rfr = Pipeline(steps=[\n",
    "    ('scaler1', MinMaxScaler()),\n",
    "    ('rfr_regretion', RandomForestRegressor(n_estimators = 100, max_depth=5, random_state=0))\n",
    "])\n",
    "\n",
    "lr = Pipeline(steps=[\n",
    "    ('scaler2', MinMaxScaler()),\n",
    "    ('lr_regretion', LinearRegression())\n",
    "])\n",
    "\n",
    "dt = Pipeline(steps=[\n",
    "    ('scaler3', MinMaxScaler()),\n",
    "    ('dt_regretion', DecisionTreeRegressor(random_state = 0)  )\n",
    "])\n"
   ]
  },
  {
   "cell_type": "code",
   "execution_count": 129,
   "id": "ea551581",
   "metadata": {},
   "outputs": [
    {
     "name": "stderr",
     "output_type": "stream",
     "text": [
      "C:\\Users\\user\\anaconda3\\lib\\site-packages\\sklearn\\pipeline.py:394: DataConversionWarning: A column-vector y was passed when a 1d array was expected. Please change the shape of y to (n_samples,), for example using ravel().\n",
      "  self._final_estimator.fit(Xt, y, **fit_params_last_step)\n"
     ]
    },
    {
     "data": {
      "text/plain": [
       "Pipeline(steps=[('scaler3', MinMaxScaler()),\n",
       "                ('dt_regretion', DecisionTreeRegressor(random_state=0))])"
      ]
     },
     "execution_count": 129,
     "metadata": {},
     "output_type": "execute_result"
    }
   ],
   "source": [
    "rfr.fit(X_train, y_train)\n",
    "lr.fit(X_train, y_train)\n",
    "dt.fit(X_train, y_train)"
   ]
  },
  {
   "cell_type": "code",
   "execution_count": 130,
   "id": "1ca5d04a",
   "metadata": {},
   "outputs": [
    {
     "name": "stdout",
     "output_type": "stream",
     "text": [
      "Prediction Score of RandomForestRegretion : 16.51%\n",
      "Prediction Score of LinearRegretion : 18.37%\n",
      "Prediction Score of DecisionTree : -34.31%\n"
     ]
    }
   ],
   "source": [
    "rfr_score = rfr.score(X_test, y_test)\n",
    "lr_score = lr.score(X_test, y_test)\n",
    "dt_score = dt.score(X_test, y_test)\n",
    "\n",
    "print(f\"Prediction Score of RandomForestRegretion : {round(rfr_score * 100, 2)}%\")\n",
    "print(f\"Prediction Score of LinearRegretion : {round(lr_score * 100, 2)}%\")\n",
    "print(f\"Prediction Score of DecisionTree : {round(dt_score * 100, 2)}%\")\n"
   ]
  },
  {
   "cell_type": "markdown",
   "id": "84467a62",
   "metadata": {},
   "source": [
    "#### Choose a loss function"
   ]
  },
  {
   "cell_type": "code",
   "execution_count": 131,
   "id": "a41c8132",
   "metadata": {},
   "outputs": [
    {
     "ename": "AttributeError",
     "evalue": "'Preprocess' object has no attribute 'eval_metrics'",
     "output_type": "error",
     "traceback": [
      "\u001b[1;31m---------------------------------------------------------------------------\u001b[0m",
      "\u001b[1;31mAttributeError\u001b[0m                            Traceback (most recent call last)",
      "Input \u001b[1;32mIn [131]\u001b[0m, in \u001b[0;36m<cell line: 5>\u001b[1;34m()\u001b[0m\n\u001b[0;32m      2\u001b[0m lr_prediction \u001b[38;5;241m=\u001b[39m lr\u001b[38;5;241m.\u001b[39mpredict(X_test)\n\u001b[0;32m      3\u001b[0m dt_prediction \u001b[38;5;241m=\u001b[39m dt\u001b[38;5;241m.\u001b[39mpredict(X_test)\n\u001b[1;32m----> 5\u001b[0m rfr_rmse, rft_mae, _ \u001b[38;5;241m=\u001b[39m \u001b[43mpreprocess\u001b[49m\u001b[38;5;241;43m.\u001b[39;49m\u001b[43meval_metrics\u001b[49m(y_test, rfr_prediction)\n\u001b[0;32m      6\u001b[0m lr_rmse, lr_mae, _ \u001b[38;5;241m=\u001b[39m preprocess\u001b[38;5;241m.\u001b[39meval_metrics(y_test, lr_prediction)\n\u001b[0;32m      7\u001b[0m dt_rmse, dt_mae, _ \u001b[38;5;241m=\u001b[39m preprocess\u001b[38;5;241m.\u001b[39meval_metrics(y_test, dt_prediction)\n",
      "\u001b[1;31mAttributeError\u001b[0m: 'Preprocess' object has no attribute 'eval_metrics'"
     ]
    }
   ],
   "source": [
    "rfr_prediction = rfr.predict(X_test)\n",
    "lr_prediction = lr.predict(X_test)\n",
    "dt_prediction = dt.predict(X_test)\n",
    "\n",
    "rfr_rmse, rft_mae, _ = preprocess.eval_metrics(y_test, rfr_prediction)\n",
    "lr_rmse, lr_mae, _ = preprocess.eval_metrics(y_test, lr_prediction)\n",
    "dt_rmse, dt_mae, _ = preprocess.eval_metrics(y_test, dt_prediction)\n",
    "\n",
    "\n",
    "# print(f\"Mean Absolute Loss : {round(mae * 100, 2)}%\")\n",
    "print(f\"RandomForest Mean Square Loss : {rfr_rmse}\")\n",
    "print(f\"Linear Mean Square Loss : {lr_rmse}\")\n",
    "print(f\"DecisionTree Mean Square Loss : {dt_rmse }%\")"
   ]
  },
  {
   "cell_type": "markdown",
   "id": "9a055274",
   "metadata": {},
   "source": [
    "#### Post Prediction analysis"
   ]
  },
  {
   "cell_type": "code",
   "execution_count": 132,
   "id": "b355d284",
   "metadata": {},
   "outputs": [
    {
     "ename": "TypeError",
     "evalue": "bar() takes from 2 to 3 positional arguments but 4 were given",
     "output_type": "error",
     "traceback": [
      "\u001b[1;31m---------------------------------------------------------------------------\u001b[0m",
      "\u001b[1;31mTypeError\u001b[0m                                 Traceback (most recent call last)",
      "Input \u001b[1;32mIn [132]\u001b[0m, in \u001b[0;36m<cell line: 2>\u001b[1;34m()\u001b[0m\n\u001b[0;32m      1\u001b[0m important_features \u001b[38;5;241m=\u001b[39m rfr[\u001b[38;5;241m1\u001b[39m]\u001b[38;5;241m.\u001b[39mfeature_importances_\n\u001b[1;32m----> 2\u001b[0m \u001b[43mplot\u001b[49m\u001b[38;5;241;43m.\u001b[39;49m\u001b[43mbar\u001b[49m\u001b[43m(\u001b[49m\u001b[43mfeature_columns\u001b[49m\u001b[43m,\u001b[49m\u001b[43m \u001b[49m\u001b[43mimportant_features\u001b[49m\u001b[43m,\u001b[49m\u001b[43m \u001b[49m\u001b[38;5;124;43m'\u001b[39;49m\u001b[38;5;124;43mRandomForestRegretion Feature Importance\u001b[39;49m\u001b[38;5;124;43m'\u001b[39;49m\u001b[43m)\u001b[49m\n",
      "\u001b[1;31mTypeError\u001b[0m: bar() takes from 2 to 3 positional arguments but 4 were given"
     ]
    }
   ],
   "source": [
    "important_features = rfr[1].feature_importances_\n",
    "plot.bar(feature_columns, important_features, 'RandomForestRegretion Feature Importance')"
   ]
  },
  {
   "cell_type": "code",
   "execution_count": 133,
   "id": "d99fa719",
   "metadata": {},
   "outputs": [
    {
     "ename": "TypeError",
     "evalue": "bar() takes from 2 to 3 positional arguments but 4 were given",
     "output_type": "error",
     "traceback": [
      "\u001b[1;31m---------------------------------------------------------------------------\u001b[0m",
      "\u001b[1;31mTypeError\u001b[0m                                 Traceback (most recent call last)",
      "Input \u001b[1;32mIn [133]\u001b[0m, in \u001b[0;36m<cell line: 3>\u001b[1;34m()\u001b[0m\n\u001b[0;32m      1\u001b[0m important_features \u001b[38;5;241m=\u001b[39m lr[\u001b[38;5;241m1\u001b[39m]\u001b[38;5;241m.\u001b[39mcoef_[\u001b[38;5;241m0\u001b[39m]\n\u001b[0;32m      2\u001b[0m \u001b[38;5;28;01mfrom\u001b[39;00m \u001b[38;5;21;01mmatplotlib\u001b[39;00m \u001b[38;5;28;01mimport\u001b[39;00m pyplot \u001b[38;5;28;01mas\u001b[39;00m plt\n\u001b[1;32m----> 3\u001b[0m \u001b[43mplot\u001b[49m\u001b[38;5;241;43m.\u001b[39;49m\u001b[43mbar\u001b[49m\u001b[43m(\u001b[49m\u001b[43mfeature_columns\u001b[49m\u001b[43m,\u001b[49m\u001b[43m \u001b[49m\u001b[38;5;28;43mlist\u001b[39;49m\u001b[43m(\u001b[49m\u001b[43mimportant_features\u001b[49m\u001b[43m)\u001b[49m\u001b[43m,\u001b[49m\u001b[43m \u001b[49m\u001b[38;5;124;43m\"\u001b[39;49m\u001b[38;5;124;43mLinearRegretion Feature Importance\u001b[39;49m\u001b[38;5;124;43m\"\u001b[39;49m\u001b[43m)\u001b[49m\n",
      "\u001b[1;31mTypeError\u001b[0m: bar() takes from 2 to 3 positional arguments but 4 were given"
     ]
    }
   ],
   "source": [
    "important_features = lr[1].coef_[0]\n",
    "from matplotlib import pyplot as plt\n",
    "plot.bar(feature_columns, list(important_features), \"LinearRegretion Feature Importance\")"
   ]
  },
  {
   "cell_type": "code",
   "execution_count": 134,
   "id": "f0535c89",
   "metadata": {},
   "outputs": [
    {
     "ename": "TypeError",
     "evalue": "bar() takes from 2 to 3 positional arguments but 4 were given",
     "output_type": "error",
     "traceback": [
      "\u001b[1;31m---------------------------------------------------------------------------\u001b[0m",
      "\u001b[1;31mTypeError\u001b[0m                                 Traceback (most recent call last)",
      "Input \u001b[1;32mIn [134]\u001b[0m, in \u001b[0;36m<cell line: 2>\u001b[1;34m()\u001b[0m\n\u001b[0;32m      1\u001b[0m important_features \u001b[38;5;241m=\u001b[39m dt[\u001b[38;5;241m1\u001b[39m]\u001b[38;5;241m.\u001b[39mfeature_importances_\n\u001b[1;32m----> 2\u001b[0m \u001b[43mplot\u001b[49m\u001b[38;5;241;43m.\u001b[39;49m\u001b[43mbar\u001b[49m\u001b[43m(\u001b[49m\u001b[43mfeature_columns\u001b[49m\u001b[43m,\u001b[49m\u001b[43m \u001b[49m\u001b[43mimportant_features\u001b[49m\u001b[43m,\u001b[49m\u001b[43m \u001b[49m\u001b[38;5;124;43m'\u001b[39;49m\u001b[38;5;124;43mtg\u001b[39;49m\u001b[38;5;124;43m'\u001b[39;49m\u001b[43m)\u001b[49m\n",
      "\u001b[1;31mTypeError\u001b[0m: bar() takes from 2 to 3 positional arguments but 4 were given"
     ]
    }
   ],
   "source": [
    "important_features = dt[1].feature_importances_\n",
    "plot.bar(feature_columns, important_features, 'tg')"
   ]
  },
  {
   "cell_type": "markdown",
   "id": "49e22221",
   "metadata": {},
   "source": [
    "#### Serialize models"
   ]
  },
  {
   "cell_type": "code",
   "execution_count": 135,
   "id": "6a8c54c1",
   "metadata": {},
   "outputs": [],
   "source": [
    "# Save model based on time st\n",
    "pickle.dump(rfr, open('../models/''random forest-' + datetime.now().strftime(\"%Y-%m-%d-%H-%M-%S\") + '.pkl', 'wb'))\n",
    "pickle.dump(lr, open('../models/''linearregression-' + datetime.now().strftime(\"%Y-%m-%d-%H-%M-%S\") + '.pkl', 'wb'))\n",
    "pickle.dump(dt, open('../models/''Decision tree-' + datetime.now().strftime(\"%Y-%m-%d-%H-%M-%S\") + '.pkl', 'wb'))"
   ]
  },
  {
   "cell_type": "code",
   "execution_count": null,
   "id": "874855a7",
   "metadata": {},
   "outputs": [],
   "source": []
  }
 ],
 "metadata": {
  "kernelspec": {
   "display_name": "Python 3 (ipykernel)",
   "language": "python",
   "name": "python3"
  },
  "language_info": {
   "codemirror_mode": {
    "name": "ipython",
    "version": 3
   },
   "file_extension": ".py",
   "mimetype": "text/x-python",
   "name": "python",
   "nbconvert_exporter": "python",
   "pygments_lexer": "ipython3",
   "version": "3.9.12"
  }
 },
 "nbformat": 4,
 "nbformat_minor": 5
}
